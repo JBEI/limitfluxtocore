{
 "cells": [
  {
   "cell_type": "markdown",
   "metadata": {},
   "source": [
    "# Determine fluxes for Toya MDVs using the new LimitFlux2Core method"
   ]
  },
  {
   "cell_type": "markdown",
   "metadata": {},
   "source": [
    "# Introduction"
   ]
  },
  {
   "cell_type": "markdown",
   "metadata": {},
   "source": [
    "This notebook contains a description of the FluxModels module. This module contains classes for FBA, $^{13}$C MFA, and 2S-$^{13}$C MFA models, as well as for ELVA models. Each of this models has a corresponding results class: FBAResults, FVAResults, C13FVAResults, TSFVAResults, C13Results, TSResults, ELVAResults."
   ]
  },
  {
   "cell_type": "markdown",
   "metadata": {},
   "source": [
    "# Setup"
   ]
  },
  {
   "cell_type": "markdown",
   "metadata": {},
   "source": [
    "First, we need to set the path and environment variable properly:"
   ]
  },
  {
   "cell_type": "code",
   "execution_count": 1,
   "metadata": {
    "collapsed": true
   },
   "outputs": [],
   "source": [
    "quantmodelDir = '/scratch/david.ando/published-jqmm/quantmodel'"
   ]
  },
  {
   "cell_type": "markdown",
   "metadata": {},
   "source": [
    "This is the only place where the jQMM library path needs to be set."
   ]
  },
  {
   "cell_type": "code",
   "execution_count": 2,
   "metadata": {
    "collapsed": true
   },
   "outputs": [],
   "source": [
    "%matplotlib inline\n",
    "\n",
    "import sys, os\n",
    "pythonPath = quantmodelDir+\"/code/core\"\n",
    "if pythonPath not in sys.path:\n",
    "    sys.path.append(pythonPath)\n",
    "os.environ[\"QUANTMODELPATH\"] = quantmodelDir"
   ]
  },
  {
   "cell_type": "markdown",
   "metadata": {},
   "source": [
    "Then import the needed classes:"
   ]
  },
  {
   "cell_type": "code",
   "execution_count": 3,
   "metadata": {
    "collapsed": true
   },
   "outputs": [],
   "source": [
    "import FluxModels as FM\n",
    "import enhancedLists, ReactionNetworks"
   ]
  },
  {
   "cell_type": "markdown",
   "metadata": {},
   "source": [
    "And move to a scratch directory (to make things faster):"
   ]
  },
  {
   "cell_type": "code",
   "execution_count": 4,
   "metadata": {},
   "outputs": [
    {
     "name": "stdout",
     "output_type": "stream",
     "text": [
      "/scratch/david.ando/tests\n"
     ]
    }
   ],
   "source": [
    "cd /scratch/david.ando/tests"
   ]
  },
  {
   "cell_type": "markdown",
   "metadata": {},
   "source": [
    "# Classes description"
   ]
  },
  {
   "cell_type": "markdown",
   "metadata": {},
   "source": [
    "FluxModel represents the base class form which all other model classes are derived, but it is never used by itself. We will, hence, skip its description and demonstrate the classes that are actually used for flux calculations"
   ]
  },
  {
   "cell_type": "markdown",
   "metadata": {},
   "source": [
    "## FBAModel, FBAresults and FVAresults"
   ]
  },
  {
   "cell_type": "markdown",
   "metadata": {},
   "source": [
    "These classes are used for Flux Balance Analysis (FBA) and Flux Variability Analysis (FVA) calculations. For example: "
   ]
  },
  {
   "cell_type": "code",
   "execution_count": 5,
   "metadata": {
    "collapsed": true
   },
   "outputs": [],
   "source": [
    "qmodeldir         = os.environ['QUANTMODELPATH']\n",
    "basedir           = qmodeldir+'/data/tests/Toya2010/2S/'\n",
    "testdir           = basedir + '2SpaperTest/'\n",
    "\n",
    "FBAfileName = testdir+'XML/'+'EciJR904wt5hGrowthPartial.xml'    \n",
    "FBAmodel    = FM.FBAModel(FBAfileName)"
   ]
  },
  {
   "cell_type": "markdown",
   "metadata": {},
   "source": [
    "gets us an FBA model, and we can find fluxes by doing:"
   ]
  },
  {
   "cell_type": "code",
   "execution_count": 6,
   "metadata": {
    "collapsed": true
   },
   "outputs": [],
   "source": [
    "FBAresults  = FBAmodel.findFluxes()\n",
    "fluxDictFBA = FBAresults.reactionNetwork.reactionList.getFluxDictionary()"
   ]
  },
  {
   "cell_type": "code",
   "execution_count": 7,
   "metadata": {},
   "outputs": [
    {
     "name": "stdout",
     "output_type": "stream",
     "text": [
      "4.8848561646\n"
     ]
    }
   ],
   "source": [
    "print fluxDictFBA['PGI'].net"
   ]
  },
  {
   "cell_type": "markdown",
   "metadata": {},
   "source": [
    "In the same fashion, we can obtain the FVA results by doing:"
   ]
  },
  {
   "cell_type": "code",
   "execution_count": 8,
   "metadata": {
    "collapsed": true
   },
   "outputs": [],
   "source": [
    "FVAresults   = FBAmodel.FVA(['PDH','PGI','MDH'])\n",
    "fluxDictFVA = FVAresults.reactionNetwork.reactionList.getReactionDictionary()"
   ]
  },
  {
   "cell_type": "code",
   "execution_count": 9,
   "metadata": {},
   "outputs": [
    {
     "name": "stdout",
     "output_type": "stream",
     "text": [
      "PDH: [0:10.2006036871:18.6327817768]\n",
      "PGI: [-6.98668484257:4.8848561646:11.5384750666]\n",
      "MDH: [-8.28839116417:2.79597922572:29.2100898247]\n"
     ]
    }
   ],
   "source": [
    "for name in ['PDH','PGI','MDH']:\n",
    "    print name+\": \"+str(fluxDictFVA[name].flux.net)"
   ]
  },
  {
   "cell_type": "markdown",
   "metadata": {},
   "source": [
    "One can use the **changeObjective** function to change the objective:"
   ]
  },
  {
   "cell_type": "code",
   "execution_count": 10,
   "metadata": {
    "collapsed": true
   },
   "outputs": [],
   "source": [
    "FBAmodel.changeObjective('BiomassEcoli',0)\n",
    "FBAmodel.changeObjective('PDH',1)"
   ]
  },
  {
   "cell_type": "code",
   "execution_count": 11,
   "metadata": {
    "collapsed": true
   },
   "outputs": [],
   "source": [
    "FBAresults2 = FBAmodel.findFluxes()\n",
    "fluxDictFBA2 = FBAresults2.reactionNetwork.reactionList.getFluxDictionary()"
   ]
  },
  {
   "cell_type": "code",
   "execution_count": 12,
   "metadata": {},
   "outputs": [
    {
     "name": "stdout",
     "output_type": "stream",
     "text": [
      "10.2006036871\n",
      "42.5\n"
     ]
    }
   ],
   "source": [
    "print fluxDictFBA['PDH'].net\n",
    "print fluxDictFBA2['PDH'].net"
   ]
  },
  {
   "cell_type": "markdown",
   "metadata": {},
   "source": [
    "and the **printSuccess** method to print if the run was successful:"
   ]
  },
  {
   "cell_type": "code",
   "execution_count": 13,
   "metadata": {},
   "outputs": [
    {
     "name": "stdout",
     "output_type": "stream",
     "text": [
      "lp successful\n"
     ]
    }
   ],
   "source": [
    "FBAresults.printSuccess(onlyFail=False)"
   ]
  },
  {
   "cell_type": "markdown",
   "metadata": {},
   "source": [
    "## C13Model, C13Results, C13FVAResults"
   ]
  },
  {
   "cell_type": "markdown",
   "metadata": {},
   "source": [
    "These classes are used for $^{13}$C Metabolic Flux Analysis ($^{13}$C MFA) and $^{13}$C Flux variability Analysis ($^{13}$C FVA). \n",
    "\n",
    "For example, we can load the toy TCA cycle model:"
   ]
  },
  {
   "cell_type": "code",
   "execution_count": 14,
   "metadata": {},
   "outputs": [
    {
     "data": {
      "text/plain": [
       "1"
      ]
     },
     "execution_count": 14,
     "metadata": {},
     "output_type": "execute_result"
    }
   ],
   "source": [
    "qmodeldir         = os.environ['QUANTMODELPATH']    \n",
    "dirDATA           = qmodeldir+'/data/tests/TCAtoy/' \n",
    "\n",
    "REACTIONSfilename   = dirDATA+'REACTIONStca.txt' \n",
    "FEEDfilename        = dirDATA+'FEEDtca.txt'\n",
    "CEMSfilename        = dirDATA+'GCMStca.txt'\n",
    "CEMSSTDfilename     = dirDATA+'GCMSerrtca.txt'\n",
    "FLUXESFreefilename  = dirDATA+'FLUXtca.txt'\n",
    "\n",
    "atomTransitions = enhancedLists.AtomTransitionList(REACTIONSfilename)\n",
    "ReacNet = atomTransitions.getReactionNetwork('E. coli wt5h 13C MFA')\n",
    "\n",
    "ReacNet.addLabeling(CEMSfilename,'LCMSLabelData',CEMSSTDfilename,minSTD=0.001)\n",
    "ReacNet.addFeed(FEEDfilename)\n",
    "ReacNet.loadFluxBounds(FLUXESFreefilename)\n",
    "\n",
    "ReacNet.write('TCA.sbml') "
   ]
  },
  {
   "cell_type": "code",
   "execution_count": 15,
   "metadata": {
    "collapsed": true
   },
   "outputs": [],
   "source": [
    "C13model = FM.C13Model('TCA.sbml')"
   ]
  },
  {
   "cell_type": "markdown",
   "metadata": {},
   "source": [
    "And then calculate fluxes and use **findFluxesStds** to calculate fluxes and standard deviations through the monte carlo approach:"
   ]
  },
  {
   "cell_type": "code",
   "execution_count": 16,
   "metadata": {},
   "outputs": [
    {
     "name": "stdout",
     "output_type": "stream",
     "text": [
      "CPU times: user 872 ms, sys: 2.42 s, total: 3.3 s\n",
      "Wall time: 6.86 s\n"
     ]
    }
   ],
   "source": [
    "%%time\n",
    "results    = C13model.findFluxesStds(Nrep=10, procString='proc', erase=True)"
   ]
  },
  {
   "cell_type": "markdown",
   "metadata": {},
   "source": [
    "**plotExpvsCompLabelFragment** and **plotExpvsCompLabelXvsY** provide alternative ways to see the fits: "
   ]
  },
  {
   "cell_type": "code",
   "execution_count": 17,
   "metadata": {},
   "outputs": [
    {
     "name": "stderr",
     "output_type": "stream",
     "text": [
      "/usr/local/share/jupyteruser/.virtualenvs/jbeipython2/lib/python2.7/site-packages/matplotlib/cbook.py:136: MatplotlibDeprecationWarning: The axisbg attribute was deprecated in version 2.0. Use facecolor instead.\n",
      "  warnings.warn(message, mplDeprecation, stacklevel=1)\n"
     ]
    },
    {
     "data": {
      "image/png": "[encoded data removed]",
      "text/plain": [
       "<matplotlib.figure.Figure at 0x7fa293f50610>"
      ]
     },
     "metadata": {},
     "output_type": "display_data"
    }
   ],
   "source": [
    "results.plotExpvsCompLabelFragment(titleFig='test')"
   ]
  },
  {
   "cell_type": "code",
   "execution_count": 18,
   "metadata": {},
   "outputs": [
    {
     "data": {
      "image/png": "[encoded data removed]",
      "text/plain": [
       "<matplotlib.figure.Figure at 0x7fa293393210>"
      ]
     },
     "metadata": {},
     "output_type": "display_data"
    }
   ],
   "source": [
    "results.plotExpvsCompLabelXvsY(titleFig='test')"
   ]
  },
  {
   "cell_type": "markdown",
   "metadata": {},
   "source": [
    "Results are stored in a reaction network where all ReactionNetworks methods are available:"
   ]
  },
  {
   "cell_type": "code",
   "execution_count": 19,
   "metadata": {},
   "outputs": [
    {
     "name": "stdout",
     "output_type": "stream",
     "text": [
      "co2Out: \t150.0\n",
      "r6: \t125.0\n",
      "r1: \t100.0\n",
      "r2: \t100.0\n",
      "r7: \t75.0\n",
      "r4: \t50.0\n",
      "r5: \t50.0\n",
      "r3: \t50.0\n",
      "r8: \t50.0\n"
     ]
    }
   ],
   "source": [
    "results.reactionNetwork.reactionList.printFluxes(brief=\"False\")"
   ]
  },
  {
   "cell_type": "code",
   "execution_count": 20,
   "metadata": {},
   "outputs": [
    {
     "data": {
      "text/plain": [
       "array([ 0.34635,  0.26953,  0.27083,  0.08073,  0.02865,  0.00391])"
      ]
     },
     "execution_count": 20,
     "metadata": {},
     "output_type": "execute_result"
    }
   ],
   "source": [
    "results.EMUlabel['Glu']"
   ]
  },
  {
   "cell_type": "code",
   "execution_count": 21,
   "metadata": {},
   "outputs": [
    {
     "data": {
      "text/plain": [
       "array([ 0.346,  0.269,  0.27 ,  0.081,  0.028,  0.004])"
      ]
     },
     "execution_count": 21,
     "metadata": {},
     "output_type": "execute_result"
    }
   ],
   "source": [
    "results.fragDict['Glu'].mdv"
   ]
  },
  {
   "cell_type": "markdown",
   "metadata": {},
   "source": [
    "A more detailed demonstration of these classes can be found in notebooks B2 and B3."
   ]
  },
  {
   "cell_type": "markdown",
   "metadata": {},
   "source": [
    "## TwoSC13Model, TSResults, TSFVAResults"
   ]
  },
  {
   "cell_type": "markdown",
   "metadata": {},
   "source": [
    "These are the classes used for two-scale $^{13}$C Metabolic Flux Analysis (2S-$^{13}$C MFA).\n",
    "\n",
    "Here, we offer a quick demonstration using the data from Toya *et al*. 2007. Notebook B4 offers a more complete demonstrating by regenerating all figures from Garcia Martin *et al*. 2015. Let's start by getting the input data from several files and blend them into a single sbml file:\n"
   ]
  },
  {
   "cell_type": "code",
   "execution_count": 22,
   "metadata": {
    "collapsed": true
   },
   "outputs": [],
   "source": [
    "datadir = os.environ['QUANTMODELPATH']+'/data/tests/Toya2010/2S/wt5h/'\n",
    "strain ='wt5h'\n",
    "\n",
    "BASEfilename      = datadir + 'EciJR904TKs_sbml2_fluxbounds-fixed-v1.xml'\n",
    "FLUXESfilename    = datadir + 'FLUX'+strain+'.txt'\n",
    "REACTIONSfilename = datadir + 'REACTIONS'+strain+'.txt'      \n",
    "MSfilename        = datadir + 'GCMS'+strain+'.txt'\n",
    "FEEDfilename      = datadir + 'FEED'+strain+'.txt'\n",
    "MSSTDfilename     = datadir + 'GCMSerr'+strain+'.txt'"
   ]
  },
  {
   "cell_type": "code",
   "execution_count": 23,
   "metadata": {},
   "outputs": [],
   "source": [
    "# Load initial SBML file\n",
    "reacNet = ReactionNetworks.TSReactionNetwork(BASEfilename)\n",
    "    \n",
    "# Add Measured fluxes\n",
    "reacNet.loadFluxBounds(FLUXESfilename)\n",
    "# Add carbon transitions\n",
    "reacNet.addTransitions(REACTIONSfilename)\n",
    "# Add measured labeling information\n",
    "reacNet.addLabeling(MSfilename,'LCMSLabelData',MSSTDfilename,minSTD=0.001)\n",
    "# Add feed labeling information\n",
    "reacNet.addFeed(FEEDfilename)\n",
    "\n",
    "# Limit fluxes to 500       \n",
    "reacNet.capFluxBounds(500)\n",
    "\n",
    "# Creates sbml file to create the model. All files in the library can be represented by a file name or\n",
    "#a tuple of the type: (fileName, string of contents)\n",
    "SBMLfile = ('temp.xml',reacNet.write('toString'))"
   ]
  },
  {
   "cell_type": "markdown",
   "metadata": {},
   "source": [
    "and then use the file to create the two-scale model:"
   ]
  },
  {
   "cell_type": "code",
   "execution_count": 24,
   "metadata": {
    "collapsed": true
   },
   "outputs": [],
   "source": [
    "TSmodel  = FM.TwoSC13Model(('temp.xml',reacNet.write('toString'))) "
   ]
  },
  {
   "cell_type": "markdown",
   "metadata": {},
   "source": [
    "We can then use the **findFluxesRanges** method to fit fluxes and find the ranges compatible with labeling data:"
   ]
  },
  {
   "cell_type": "code",
   "execution_count": 25,
   "metadata": {
    "collapsed": true
   },
   "outputs": [],
   "source": [
    "fluxNames = TSmodel.reactionNetwork.C13ReacNet.reactionList.getReactionNameList(level=1)\n",
    "TSresult = TSmodel.findFluxesRanges(Nrep=300,fluxNames=fluxNames,procString='proc',limitFlux2Core=False) "
   ]
  },
  {
   "cell_type": "markdown",
   "metadata": {},
   "source": [
    "And see the fits with the **plotExpvsCompLabelFragment** method:"
   ]
  },
  {
   "cell_type": "code",
   "execution_count": 26,
   "metadata": {},
   "outputs": [
    {
     "name": "stdout",
     "output_type": "stream",
     "text": [
      "CPU times: user 3.01 s, sys: 5.28 s, total: 8.29 s\n",
      "Wall time: 1.31 s\n"
     ]
    },
    {
     "data": {
      "image/png": "[encoded data removed]",
      "text/plain": [
       "<matplotlib.figure.Figure at 0x7fa1efed5550>"
      ]
     },
     "metadata": {},
     "output_type": "display_data"
    }
   ],
   "source": [
    "%%time\n",
    "TSresult.plotExpvsCompLabelFragment(titleFig='wt5h')"
   ]
  },
  {
   "cell_type": "code",
   "execution_count": 27,
   "metadata": {},
   "outputs": [
    {
     "name": "stdout",
     "output_type": "stream",
     "text": [
      "ADK1: \t500.0\n",
      "PROt4: \t500.0\n",
      "INSt2r: \t-500.0\n",
      "URAt2: \t500.0\n",
      "GALUi: \t500.0\n",
      "PROt2r: \t-500.0\n",
      "INSt2: \t500.0\n",
      "URAt2r: \t-500.0\n",
      "NAt3_1: \t500.0\n",
      "GALU: \t-499.983566\n",
      "ADK3: \t-498.04825832\n",
      "NDPK1: \t-489.017611486\n",
      "ATPS4r: \t62.2266956411\n",
      "CYTBO3: \t49.6028134002\n",
      "NADH6: \t44.2418542441\n",
      "H2Ot: \t-44.1501624701\n",
      "EX_h2o_e_: \t44.1501624701\n",
      "CO2t: \t-26.3222506101\n",
      "EX_co2_e_: \t26.3222506101\n",
      "O2t: \t24.8072167001\n",
      "EX_o2_e_: \t-24.8072167001\n",
      "PGK: \t-20.0388232861\n",
      "GAPD: \t20.0388232861\n",
      "PGM: \t-18.5921855761\n",
      "ENO: \t18.5921855761\n",
      "GLUDy: \t-15.4368076142\n",
      "FUM: \t14.3891242903\n",
      "MDH: \t14.271075691\n",
      "PDH: \t13.0886275661\n",
      "EX_h_e_: \t12.3727574199\n",
      "EX_glc_e_: \t-11.7\n",
      "GLCpts: \t11.7\n",
      "ASPTA: \t-10.7797299042\n",
      "THD2: \t10.6730350352\n",
      "PPC: \t10.3874262349\n",
      "FBA: \t9.82002045607\n",
      "PFK: \t9.82002045607\n",
      "TPI: \t9.68073325607\n",
      "NH4t: \t8.93782429\n",
      "EX_nh4_e_: \t-8.93782429\n",
      "ADSS: \t8.6272095642\n",
      "ADSL1r: \t8.6272095642\n",
      "PGI: \t8.59401840822\n",
      "INSK: \t8.3869253942\n",
      "ADA: \t8.38305206076\n",
      "NTD7: \t8.3811153942\n",
      "PPCK: \t7.67256586555\n",
      "ATPM: \t7.6\n",
      "ACONT: \t6.2062061561\n",
      "CS: \t6.2062061561\n",
      "ICDHyr: \t6.2061944561\n",
      "AKGDH: \t5.2843964561\n",
      "SUCD1i: \t5.09716025613\n",
      "SUCD4: \t5.09716025613\n",
      "SUCOAS: \t-4.8697259661\n",
      "EX_ac_e_: \t4.3\n",
      "ACt2r: \t-4.3\n",
      "PTAr: \t3.82452703\n",
      "ACKr: \t-3.82452703\n",
      "PYK: \t3.43728550673\n",
      "G6PDH2r: \t2.96172759178\n",
      "PGL: \t2.96172759178\n",
      "GND: \t2.96172759178\n",
      "PPA: \t2.82309145\n",
      "HCO3E: \t2.31129768\n",
      "MCOATA: \t1.91463321\n",
      "ACCOACr: \t1.91463321\n",
      "RPI: \t-1.62016124393\n",
      "GLNS: \t1.57835124\n",
      "PGCD: \t1.44663771\n",
      "PSP_L: \t1.44663771\n",
      "PSERT: \t1.44663771\n",
      "TK1: \t1.30668974785\n",
      "RPE: \t1.30668974785\n",
      "GHMT2: \t0.94182424\n",
      "ASPK: \t0.843778\n",
      "ASAD: \t-0.843778\n",
      "TK3: \t-0.834367873926\n",
      "BiomassEcoli: \t0.83\n",
      "MTHFD: \t0.82069404\n",
      "MTHFC: \t0.82069404\n",
      "TA1: \t-0.813451873926\n",
      "TA2: \t0.813451873926\n",
      "PRPPS: \t0.77998337\n",
      "EX_pi_e_: \t-0.75665871\n",
      "PIt2r: \t0.75665871\n",
      "ACLS: \t0.68894897\n",
      "KARA1i: \t0.68894897\n",
      "DHAD1: \t0.68894897\n",
      "HSDy: \t-0.55029\n",
      "CBMK: \t0.529623\n",
      "ALATA_L: \t-0.473764\n",
      "TK2: \t-0.472321873926\n",
      "IMPC: \t-0.47136447\n",
      "AICART: \t0.47136447\n",
      "HSK: \t0.42911\n",
      "THRS: \t0.42911\n",
      "ADSL2r: \t0.39666447\n",
      "GLUPRT: \t0.39666447\n",
      "PRAIS: \t0.39666447\n",
      "PRFGS: \t0.39666447\n",
      "AIRC3: \t-0.39666447\n",
      "AIRC2: \t0.39666447\n",
      "PRAGSr: \t0.39666447\n",
      "PRASCS: \t0.39666447\n",
      "LEUTAi: \t0.35524\n",
      "IPMD: \t0.35524\n",
      "IPPMIa: \t-0.35524\n",
      "IPPMIb: \t-0.35524\n",
      "IPPS: \t0.35524\n",
      "OMCDC: \t0.35524\n",
      "GARFT: \t0.34932957\n",
      "DDPA: \t0.34113\n",
      "SHKK: \t0.34113\n",
      "CHORS: \t0.34113\n",
      "PSCVT: \t0.34113\n",
      "DHQS: \t0.34113\n",
      "DHQD: \t0.34113\n",
      "SHK3Dr: \t0.34113\n",
      "NDPK2: \t0.335237\n",
      "VALTA: \t-0.33366\n",
      "DHDPRy: \t0.293488\n",
      "THDPS: \t0.293488\n",
      "DAPE: \t0.293488\n",
      "SDPTA: \t-0.293488\n",
      "SDPDS: \t0.293488\n",
      "DHDPS: \t0.293488\n",
      "UMPK: \t0.291413\n",
      "TRDR: \t0.27660497\n",
      "DAPDC: \t0.27058\n",
      "ACODA: \t0.26809\n",
      "OCBT: \t0.26809\n",
      "ACOTA: \t-0.26809\n",
      "ACGS: \t0.26809\n",
      "ACGK: \t0.26809\n",
      "ARGSL: \t0.26809\n",
      "ARGSS: \t0.26809\n",
      "AGPR: \t-0.26809\n",
      "KAS15: \t0.266679\n",
      "DHORD2: \t0.261533\n",
      "ORPT: \t-0.261533\n",
      "ASPCT: \t0.261533\n",
      "DHORTS: \t-0.261533\n",
      "OMPDC: \t0.261533\n",
      "CHORM: \t0.25481\n",
      "IMPD: \t0.2310803\n",
      "GMPS2: \t0.2310803\n",
      "GK1: \t0.2310803\n",
      "ACHBS: \t0.22908\n",
      "DHAD2: \t0.22908\n",
      "ILETA: \t-0.22908\n",
      "THRD_L: \t0.22908\n",
      "KARA2i: \t0.22908\n",
      "CYSS: \t0.19343897\n",
      "SULabc: \t0.19343897\n",
      "PAPSR: \t0.19343897\n",
      "ADSK: \t0.19343897\n",
      "EX_so4_e_: \t-0.19343897\n",
      "BPNT: \t0.19343897\n",
      "SERAT: \t0.19343897\n",
      "SULR: \t-0.19343897\n",
      "SADT2: \t0.19343897\n",
      "ASNS2: \t0.19007\n",
      "SUCCt2b: \t0.187245409971\n",
      "EX_succ_e_: \t0.187245409971\n",
      "G5SADs: \t0.1743\n",
      "G5SD: \t0.1743\n",
      "P5CR: \t0.1743\n",
      "GLU5K: \t0.1743\n",
      "MTHFR2: \t0.16268\n",
      "CYTK1: \t0.14733247\n",
      "PPNDH: \t0.14608\n",
      "PHETA1: \t-0.14608\n",
      "PGMT: \t-0.144254\n",
      "NDPK3: \t0.14019447\n",
      "G3PD2: \t-0.137033\n",
      "GLCS1: \t0.12782\n",
      "GLGC: \t0.12782\n",
      "DASYN_EC: \t0.1263675\n",
      "CTPS2: \t0.125662\n",
      "SHSL1: \t0.12118\n",
      "HSST: \t0.12118\n",
      "METS: \t0.12118\n",
      "CYSTL: \t0.12118\n",
      "ME2: \t0.118060299373\n",
      "C181SN: \t0.1124235\n",
      "PASYN_EC: \t0.1124235\n",
      "TYRTA: \t-0.10873\n",
      "PPND: \t0.10873\n",
      "PSSA_EC: \t0.0964045\n",
      "PSD_EC: \t0.0942465\n",
      "C160SN: \t0.08094492\n",
      "IG3PS: \t0.0747\n",
      "ATPPRT: \t0.0747\n",
      "PRAMPC: \t0.0747\n",
      "HISTP: \t0.0747\n",
      "IGPDH: \t0.0747\n",
      "HSTPT: \t0.0747\n",
      "PRATPP: \t0.0747\n",
      "HISTD: \t0.0747\n",
      "PRMICIi: \t0.0747\n",
      "GLYCL: \t0.06209977\n",
      "DHFR: \t0.062001\n",
      "G1PACT: \t0.05976\n",
      "PGAMT: \t-0.05976\n",
      "UAGDP: \t0.05976\n",
      "GF6PTA: \t0.05976\n",
      "GART: \t0.0473349\n",
      "ALAR: \t0.045816\n",
      "TRPS1: \t0.04482\n",
      "PRAIi: \t0.04482\n",
      "IGPS: \t0.04482\n",
      "ANPRT: \t0.04482\n",
      "ANS: \t0.04482\n",
      "DHPS2: \t0.0415\n",
      "DNMPPA: \t0.0415\n",
      "GTPCI: \t0.0415\n",
      "GLYCLTt2r: \t-0.0415\n",
      "DHFS: \t0.0415\n",
      "DHNPA2: \t0.0415\n",
      "EX_glyclt_e_: \t0.0415\n",
      "DNTPPA: \t0.0415\n",
      "HPPK2: \t0.0415\n",
      "GCALDD: \t0.0415\n",
      "ADCS: \t0.0415\n",
      "ADCL: \t0.0415\n",
      "ARGDC: \t0.03486\n",
      "KDOPP: \t0.03486\n",
      "AGMT: \t0.03486\n",
      "EX_urea_e_: \t0.03486\n",
      "A5PISO: \t0.03486\n",
      "C120SN: \t0.03486\n",
      "KDOCT2: \t0.03486\n",
      "UREAt: \t-0.03486\n",
      "KDOPS: \t0.03486\n",
      "PGSA_EC: \t0.029963\n",
      "PGPP_EC: \t0.029963\n",
      "KAS16: \t0.027888\n",
      "UAGPT3: \t0.022908\n",
      "UAMAGS: \t0.022908\n",
      "UDCPDP: \t0.022908\n",
      "PAPPT3: \t0.022908\n",
      "UAAGDS: \t0.022908\n",
      "UAGCVT: \t0.022908\n",
      "PPTGS: \t0.022908\n",
      "UAPGR: \t0.022908\n",
      "UAMAS: \t0.022908\n",
      "UGMDDS: \t0.022908\n",
      "ALAALAr: \t0.022908\n",
      "GLUR: \t-0.022908\n",
      "NDPK7: \t0.021082\n",
      "RNDR2: \t0.021082\n",
      "NDPK5: \t0.021082\n",
      "RNDR3: \t0.021082\n",
      "GMHEPK: \t0.020916\n",
      "GMHEPAT: \t0.020916\n",
      "S7PI: \t0.020916\n",
      "AGMHE: \t0.020916\n",
      "GMHEPPA: \t0.020916\n",
      "URIDK2r: \t-0.020501\n",
      "TMDS: \t0.020501\n",
      "NDPK8: \t0.020501\n",
      "NDPK6: \t-0.020501\n",
      "NDPK4: \t0.020501\n",
      "DTMPK: \t0.020501\n",
      "RNTR4: \t0.020501\n",
      "RNDR1: \t0.020501\n",
      "C161SN: \t0.01573929\n",
      "DAGK_EC: \t0.013944\n",
      "UHGADA: \t0.013944\n",
      "PEPT_EC: \t0.013944\n",
      "U23GAAT: \t0.013944\n",
      "UAGAAT: \t0.013944\n",
      "C140SN: \t0.01146894\n",
      "C141SN: \t0.01124235\n",
      "USHD: \t0.006972\n",
      "MOAT2: \t0.006972\n",
      "TDSK: \t0.006972\n",
      "LPADSS: \t0.006972\n",
      "LPSSYN_EC: \t0.006972\n",
      "EDTXS1: \t0.006972\n",
      "EDTXS2: \t0.006972\n",
      "MOAT: \t0.006972\n",
      "PPM: \t-0.00581000000001\n",
      "UNK3: \t0.00581\n",
      "SPMS: \t0.00581\n",
      "MTRI: \t0.00581\n",
      "MTRK: \t0.00581\n",
      "MDRPD: \t0.00581\n",
      "DKMPPD: \t0.00581\n",
      "MTAN: \t0.00581\n",
      "ADMDCr: \t0.00581\n",
      "METAT: \t0.00581\n",
      "CLPNS_EC: \t0.0053535\n",
      "GLYK: \t0.0053535\n",
      "PUNP5: \t-0.00387333343899\n",
      "QULNS: \t0.0022659\n",
      "ASPO3: \t0.0022659\n",
      "NNDPR: \t0.0022659\n",
      "NADS1: \t0.0022659\n",
      "NNAT: \t0.0022659\n",
      "ADD: \t0.00193666698051\n",
      "PUNP1: \t-0.00193666656101\n",
      "PUNP2: \t-0.00193666645848\n",
      "DADA: \t0.00193666645848\n",
      "PUNP6: \t0.00193666645848\n",
      "NADK: \t0.0004399\n",
      "MOHMT: \t4.8970000001e-05\n",
      "PANTS: \t4.8969999999e-05\n",
      "DPR: \t4.8969999999e-05\n",
      "PPNCL2: \t4.8969999999e-05\n",
      "ASP1DC: \t4.8969999999e-05\n",
      "PNTK: \t4.8969999999e-05\n",
      "PPCDC: \t4.8969999999e-05\n",
      "PTPATi: \t4.8969999999e-05\n",
      "DPCOAK: \t4.8969999999e-05\n",
      "RBFSa: \t1.6600000001e-05\n",
      "DB4PS: \t1.66e-05\n",
      "ICL: \t1.17e-05\n",
      "MALS: \t1.17e-05\n",
      "DHAPT: \t1.17e-05\n",
      "F6PA: \t1.17e-05\n",
      "PMDPHT: \t8.300000001e-06\n",
      "DHPPDA2: \t8.300000001e-06\n",
      "APRAUR: \t8.300000001e-06\n",
      "FMNAT: \t8.300000001e-06\n",
      "RBFSb: \t8.300000001e-06\n",
      "RBFK: \t8.300000001e-06\n",
      "GTPCII2: \t8.3e-06\n",
      "CSND: \t0.0\n",
      "TYRt2r: \t0.0\n",
      "ASPt2: \t0.0\n",
      "CYNTt2: \t0.0\n",
      "PTA2: \t0.0\n",
      "AADDGT: \t0.0\n",
      "GUAPRT: \t0.0\n",
      "EX_glyc_e_: \t0.0\n",
      "NTD11: \t0.0\n",
      "EX_dmso_e_: \t0.0\n",
      "NACODA: \t0.0\n",
      "GLYBabc: \t0.0\n",
      "DHBSr: \t0.0\n",
      "EX_uri_e_: \t0.0\n",
      "RBP4E: \t0.0\n",
      "LEUabc: \t0.0\n",
      "2DGULRy: \t0.0\n",
      "2DGULRx: \t0.0\n",
      "GLUt2r: \t0.0\n",
      "GLNabc: \t0.0\n",
      "OCTDPS: \t0.0\n",
      "ARGORNt7: \t0.0\n",
      "KG6PDC: \t0.0\n",
      "EX_rmn_e_: \t0.0\n",
      "ADPT: \t0.0\n",
      "EX_galct_D_e_: \t0.0\n",
      "EX_mnl_e_: \t0.0\n",
      "MALTTTRabc: \t0.0\n",
      "ACALDt: \t0.0\n",
      "CYSabc: \t0.0\n",
      "TRE6PH: \t0.0\n",
      "OMBZLM: \t0.0\n",
      "ACALDi: \t0.0\n",
      "TRE6PP: \t0.0\n",
      "DMSOR1e: \t0.0\n",
      "GLCRAL: \t0.0\n",
      "NNDMBRT: \t0.0\n",
      "OMPHHX: \t0.0\n",
      "DMQMT: \t0.0\n",
      "AHC: \t0.0\n",
      "HYD3: \t0.0\n",
      "E4PD: \t0.0\n",
      "EX_glyald_e_: \t0.0\n",
      "GLTPD: \t0.0\n",
      "Kt2r: \t0.0\n",
      "EX_no3_e_: \t0.0\n",
      "PYNP2r: \t0.0\n",
      "UGLT: \t0.0\n",
      "EX_lys_L_e_: \t0.0\n",
      "GLYC3Pabc: \t0.0\n",
      "AMMQT8_2: \t0.0\n",
      "NTPP7: \t0.0\n",
      "GLYCTO4: \t0.0\n",
      "NTPP5: \t0.0\n",
      "GALS3: \t0.0\n",
      "MANpts: \t0.0\n",
      "ALLTNt2r: \t0.0\n",
      "EX_gln_L_e_: \t0.0\n",
      "EX_dha_e_: \t0.0\n",
      "URIt2: \t0.0\n",
      "SOTA: \t0.0\n",
      "PDX5PS: \t0.0\n",
      "DKGLCNR2x: \t0.0\n",
      "DKGLCNR2y: \t0.0\n",
      "MAN6PI: \t0.0\n",
      "GLYALDt: \t0.0\n",
      "CYTDt2: \t0.0\n",
      "4HTHRS: \t0.0\n",
      "UPPDC1: \t0.0\n",
      "HPPPNDO: \t0.0\n",
      "GP4GH: \t0.0\n",
      "CMPN: \t0.0\n",
      "EX_man_e_: \t0.0\n",
      "LCADi: \t0.0\n",
      "MCITS: \t0.0\n",
      "NAMNPP: \t0.0\n",
      "ECAP_EC: \t0.0\n",
      "PPPNt2r: \t0.0\n",
      "DCYTt2: \t0.0\n",
      "LDH_D2: \t0.0\n",
      "SPMDabc: \t0.0\n",
      "ORNTA: \t0.0\n",
      "ASNabc: \t0.0\n",
      "EX_gam_e_: \t0.0\n",
      "EX_met_L_e_: \t0.0\n",
      "5DGLCNR: \t0.0\n",
      "G1SATi: \t0.0\n",
      "PDX5PO: \t0.0\n",
      "DHAt: \t0.0\n",
      "P5CD: \t0.0\n",
      "DRPA: \t0.0\n",
      "PMPK: \t0.0\n",
      "DHCIND: \t0.0\n",
      "EX_acnam_e_: \t0.0\n",
      "EX_chol_e_: \t0.0\n",
      "CYTDK2: \t0.0\n",
      "TARTD: \t0.0\n",
      "G1PTT: \t0.0\n",
      "GLUABUTt7: \t0.0\n",
      "NO3R1: \t0.0\n",
      "TDPDRR: \t0.0\n",
      "ABTA: \t0.0\n",
      "Kabc: \t0.0\n",
      "AOXSr: \t0.0\n",
      "THMDt2: \t0.0\n",
      "PMANM: \t0.0\n",
      "DHPPD: \t0.0\n",
      "ALAt2r: \t0.0\n",
      "MNLpts: \t0.0\n",
      "MLTG4: \t0.0\n",
      "GALt2: \t0.0\n",
      "EX_glcur_e_: \t0.0\n",
      "HMBS: \t0.0\n",
      "SERt4: \t0.0\n",
      "PPBNGS: \t0.0\n",
      "EX_nad_e_: \t0.0\n",
      "FCLT: \t0.0\n",
      "ASPT: \t0.0\n",
      "FCLK: \t0.0\n",
      "EX_leu_L_e_: \t0.0\n",
      "MLTG3: \t0.0\n",
      "FCI: \t0.0\n",
      "CBPS: \t0.0\n",
      "HISabc: \t0.0\n",
      "RIBabc: \t0.0\n",
      "EX_3hcinnm_e_: \t0.0\n",
      "ABUTt2: \t0.0\n",
      "EX_fum_e_: \t0.0\n",
      "ALATA_D2: \t0.0\n",
      "EX_thymd_e_: \t0.0\n",
      "CHLt2r: \t0.0\n",
      "PGLYCP: \t0.0\n",
      "DURIt2: \t0.0\n",
      "EDA: \t0.0\n",
      "MICITD: \t0.0\n",
      "EDD: \t0.0\n",
      "EX_tsul_e_: \t0.0\n",
      "GLUTRR: \t0.0\n",
      "TMDPP: \t0.0\n",
      "NADH7: \t0.0\n",
      "12PPDt: \t0.0\n",
      "FRUK: \t0.0\n",
      "MEPCT: \t0.0\n",
      "MME: \t0.0\n",
      "EX_pnto_R_e_: \t0.0\n",
      "SHCHF: \t0.0\n",
      "XYLabc: \t0.0\n",
      "EX_melib_e_: \t0.0\n",
      "EX_ala_D_e_: \t0.0\n",
      "CAT: \t0.0\n",
      "PIabc: \t0.0\n",
      "GNK: \t0.0\n",
      "HEX1: \t0.0\n",
      "FTHFD: \t0.0\n",
      "TMAOR1: \t0.0\n",
      "NADH10: \t0.0\n",
      "EX_nac_e_: \t0.0\n",
      "SELNPS: \t0.0\n",
      "SGDS: \t0.0\n",
      "ADK4: \t0.0\n",
      "GLYBt2r: \t0.0\n",
      "EX_3hpppn_e_: \t0.0\n",
      "EX_for_e_: \t0.0\n",
      "TMAOR2: \t0.0\n",
      "FRUpts: \t0.0\n",
      "ENTCS: \t0.0\n",
      "ASPabc: \t0.0\n",
      "DBTSr: \t0.0\n",
      "DHORD5: \t0.0\n",
      "NO3t7: \t0.0\n",
      "CRNCDH: \t0.0\n",
      "EX_etoh_e_: \t0.0\n",
      "UPP3MT: \t0.0\n",
      "UPP3S: \t0.0\n",
      "XYLI2i: \t0.0\n",
      "TRPt2r: \t0.0\n",
      "FRD3: \t0.0\n",
      "PYDAMK: \t0.0\n",
      "EX_tma_e_: \t0.0\n",
      "EX_spmd_e_: \t0.0\n",
      "PPAKr: \t0.0\n",
      "M1PD: \t0.0\n",
      "RHCCE: \t0.0\n",
      "EX_tartr_L_e_: \t0.0\n",
      "EX_fuc_L_e_: \t0.0\n",
      "EX_ins_e_: \t0.0\n",
      "DUTPDP: \t0.0\n",
      "ACNAMt2: \t0.0\n",
      "PTRCORNt7: \t0.0\n",
      "EX_xtsn_e_: \t0.0\n",
      "UGLYCH: \t0.0\n",
      "ARAI: \t0.0\n",
      "EX_arg_L_e_: \t0.0\n",
      "G6Pt6_2: \t0.0\n",
      "EX_ala_L_e_: \t0.0\n",
      "HMPK1: \t0.0\n",
      "EX_ptrc_e_: \t0.0\n",
      "MECDPDH: \t0.0\n",
      "TAUDO: \t0.0\n",
      "SGSAD: \t0.0\n",
      "DAPabc: \t0.0\n",
      "IDOND2: \t0.0\n",
      "HOPNTAL: \t0.0\n",
      "DDGLK: \t0.0\n",
      "HYD1: \t0.0\n",
      "EX_asn_L_e_: \t0.0\n",
      "RMNt: \t0.0\n",
      "HYD2: \t0.0\n",
      "DURIPP: \t0.0\n",
      "EX_crn_e_: \t0.0\n",
      "GPDDA5: \t0.0\n",
      "SBTpts: \t0.0\n",
      "BUTCT: \t0.0\n",
      "AGDC: \t0.0\n",
      "ARBt2r: \t0.0\n",
      "ORNDC: \t0.0\n",
      "SERASr: \t0.0\n",
      "EX_duri_e_: \t0.0\n",
      "MNNH: \t0.0\n",
      "ILEt2r: \t0.0\n",
      "MELIBt2: \t0.0\n",
      "CBIAT_DELETE: \t0.0\n",
      "ARBabc: \t0.0\n",
      "ADNK1: \t0.0\n",
      "LCARS: \t0.0\n",
      "CYTK2: \t0.0\n",
      "ORNabc: \t0.0\n",
      "SPMDAT1: \t0.0\n",
      "FAO4: \t0.0\n",
      "DXPS: \t0.0\n",
      "FAO2: \t0.0\n",
      "FAO3: \t0.0\n",
      "HBZOPT: \t0.0\n",
      "FAO1: \t0.0\n",
      "PYAM5PO: \t0.0\n",
      "HDCAt2: \t0.0\n",
      "EX_thm_e_: \t0.0\n",
      "EX_26dap_M_e_: \t0.0\n",
      "TDPAGTA: \t0.0\n",
      "NADPPPS: \t0.0\n",
      "ALDD19x: \t0.0\n",
      "DHBD: \t0.0\n",
      "FRUpts2: \t0.0\n",
      "DCTPD: \t0.0\n",
      "SADH: \t0.0\n",
      "MLTP2: \t0.0\n",
      "L_LACt2r: \t0.0\n",
      "GDMANE: \t0.0\n",
      "HKNTDH: \t0.0\n",
      "PYDXK: \t0.0\n",
      "THRt2r: \t0.0\n",
      "CYTBD: \t0.0\n",
      "XYLI1: \t0.0\n",
      "ICHORT: \t0.0\n",
      "NTPP6: \t0.0\n",
      "EX_glcn_e_: \t0.0\n",
      "TAURabc: \t0.0\n",
      "ACPS1: \t0.0\n",
      "NO3R2: \t0.0\n",
      "G1PP: \t0.0\n",
      "PUNP4: \t0.0\n",
      "ADNt2r: \t0.0\n",
      "CBL1abc: \t0.0\n",
      "METDabc: \t0.0\n",
      "EX_man6p_e_: \t0.0\n",
      "NTPP3: \t0.0\n",
      "AMALT4: \t0.0\n",
      "AMALT3: \t0.0\n",
      "AMALT2: \t0.0\n",
      "AMALT1: \t0.0\n",
      "NTPP2: \t0.0\n",
      "PACCOAL: \t0.0\n",
      "GLYCTO3: \t0.0\n",
      "GTHS: \t0.0\n",
      "EX_4abut_e_: \t0.0\n",
      "FRD2: \t0.0\n",
      "CDAPPA_EC: \t0.0\n",
      "EX_rib_D_e_: \t0.0\n",
      "DOGULNR: \t0.0\n",
      "PYDXPP: \t0.0\n",
      "EX_cit_e_: \t0.0\n",
      "RMI: \t0.0\n",
      "TSULabc: \t0.0\n",
      "TDPADGAT: \t0.0\n",
      "FCLPA: \t0.0\n",
      "SERt2r: \t0.0\n",
      "EX_cbl1_e_: \t0.0\n",
      "SUCBZL: \t0.0\n",
      "ADNt2: \t0.0\n",
      "CRNBTCT: \t0.0\n",
      "ALLTAH: \t0.0\n",
      "GLYC3Pt6: \t0.0\n",
      "AST: \t0.0\n",
      "GSPMDA: \t0.0\n",
      "GLUTRS: \t0.0\n",
      "ALCD19: \t0.0\n",
      "MALt2_2: \t0.0\n",
      "MALTTRabc: \t0.0\n",
      "CYTDt2r: \t0.0\n",
      "RMK: \t0.0\n",
      "EX_ser_L_e_: \t0.0\n",
      "SBTPD: \t0.0\n",
      "EX_sbt_D_e_: \t0.0\n",
      "AMPMS: \t0.0\n",
      "TDPDRE: \t0.0\n",
      "ALATA_L2: \t0.0\n",
      "EX_his_L_e_: \t0.0\n",
      "ADNCYC: \t0.0\n",
      "OHPBAT: \t0.0\n",
      "GLYCLTDx: \t0.0\n",
      "FFSD: \t0.0\n",
      "TRPAS2: \t0.0\n",
      "EX_galt_e_: \t0.0\n",
      "CYSDS: \t0.0\n",
      "GSNt2: \t0.0\n",
      "THMabc: \t0.0\n",
      "TREpts: \t0.0\n",
      "GSPMDS: \t0.0\n",
      "HYPOE: \t0.0\n",
      "GALCTt2r: \t0.0\n",
      "EX_ade_e_: \t0.0\n",
      "EX_csn_e_: \t0.0\n",
      "GLYCt: \t0.0\n",
      "NMNt7: \t0.0\n",
      "3HPPPNH: \t0.0\n",
      "GLCt2: \t0.0\n",
      "EX_tyr_L_e_: \t0.0\n",
      "GALabc: \t0.0\n",
      "EX_taur_e_: \t0.0\n",
      "EX_glcr_e_: \t0.0\n",
      "ACBIPGT: \t0.0\n",
      "PYDXNK: \t0.0\n",
      "HPPPNt2r: \t0.0\n",
      "DXPRIi: \t0.0\n",
      "GUI2: \t0.0\n",
      "MCITL2: \t0.0\n",
      "GUI1: \t0.0\n",
      "EX_dad_2_e_: \t0.0\n",
      "EX_pyr_e_: \t0.0\n",
      "LCAD: \t0.0\n",
      "LYSt2r: \t0.0\n",
      "UPPRT: \t0.0\n",
      "HEMEOS: \t0.0\n",
      "EX_pppn_e_: \t0.0\n",
      "LPLIPA5: \t0.0\n",
      "LPLIPA4: \t0.0\n",
      "LPLIPA3: \t0.0\n",
      "LPLIPA2: \t0.0\n",
      "LPLIPA1: \t0.0\n",
      "EX_ocdca_e_: \t0.0\n",
      "VPAMT: \t0.0\n",
      "ACMAMUT: \t0.0\n",
      "CYTD: \t0.0\n",
      "GUAt: \t0.0\n",
      "GALTpts: \t0.0\n",
      "PHEt2r: \t0.0\n",
      "BETALDHx: \t0.0\n",
      "BETALDHy: \t0.0\n",
      "BSORx: \t0.0\n",
      "EX_no2_e_: \t0.0\n",
      "MLTP1: \t0.0\n",
      "EX_dcyt_e_: \t0.0\n",
      "URIt2r: \t0.0\n",
      "OMMBLHX: \t0.0\n",
      "ACACT1r: \t0.0\n",
      "G3PD7: \t0.0\n",
      "G3PD6: \t0.0\n",
      "G3PD5: \t0.0\n",
      "AACPS4: \t0.0\n",
      "BTS2: \t0.0\n",
      "PUNP7: \t0.0\n",
      "PFK_2: \t0.0\n",
      "MGSA: \t0.0\n",
      "AACPS1: \t0.0\n",
      "AACPS2: \t0.0\n",
      "AACPS3: \t0.0\n",
      "NTD5: \t0.0\n",
      "RMPA: \t0.0\n",
      "GLXCL: \t0.0\n",
      "PPPGO: \t0.0\n",
      "MLTP3: \t0.0\n",
      "EX_fru_e_: \t0.0\n",
      "MAN1PT2: \t0.0\n",
      "SHCHD2: \t0.0\n",
      "GLYt2r: \t0.0\n",
      "ACCOAL: \t0.0\n",
      "CITL: \t0.0\n",
      "ACONMT: \t0.0\n",
      "HPYRI: \t0.0\n",
      "GLYCLTDy: \t0.0\n",
      "LYSDC: \t0.0\n",
      "FORt: \t0.0\n",
      "UDPG4E: \t0.0\n",
      "NMNAT: \t0.0\n",
      "UDPGALM: \t0.0\n",
      "EX_cynt_e_: \t0.0\n",
      "EX_fe2_e_: \t0.0\n",
      "GLUt4: \t0.0\n",
      "XPPT: \t0.0\n",
      "EX_dgsn_e_: \t0.0\n",
      "SERD_D: \t0.0\n",
      "EX_akg_e_: \t0.0\n",
      "LACZ: \t0.0\n",
      "FE2abc: \t0.0\n",
      "GLUabc: \t0.0\n",
      "RBK_L1: \t0.0\n",
      "MCITD: \t0.0\n",
      "UDCPDPS: \t0.0\n",
      "NMNDA: \t0.0\n",
      "NTPP8: \t0.0\n",
      "PERD: \t0.0\n",
      "FDH2: \t0.0\n",
      "FDH3: \t0.0\n",
      "THRD: \t0.0\n",
      "IPDPS: \t0.0\n",
      "THRabc: \t0.0\n",
      "GTHOr: \t0.0\n",
      "DAAD: \t0.0\n",
      "TRPS2: \t0.0\n",
      "PLIPA2: \t0.0\n",
      "ACOATA: \t0.0\n",
      "TRPS3: \t0.0\n",
      "EX_fuc1p_L_e_: \t0.0\n",
      "TRSAR: \t0.0\n",
      "EX_phe_L_e_: \t0.0\n",
      "MECDPS: \t0.0\n",
      "ASNS1: \t0.0\n",
      "TMDK1: \t0.0\n",
      "LDH_D: \t0.0\n",
      "FUCPt6_2: \t0.0\n",
      "GUAt2: \t0.0\n",
      "GMPR: \t0.0\n",
      "EX_malt_e_: \t0.0\n",
      "XTSNt2r: \t0.0\n",
      "ALTRH: \t0.0\n",
      "PEAMNO: \t0.0\n",
      "EX_met_D_e_: \t0.0\n",
      "INDOLEt2r: \t0.0\n",
      "GLYOX: \t0.0\n",
      "DINSt2: \t0.0\n",
      "ASNt2r: \t0.0\n",
      "SSALx: \t0.0\n",
      "NACUP: \t0.0\n",
      "EX_alltn_e_: \t0.0\n",
      "DDGLCNt2r: \t0.0\n",
      "URIK2: \t0.0\n",
      "OPHBDC: \t0.0\n",
      "KAS14: \t0.0\n",
      "SSALy: \t0.0\n",
      "DHNAOT: \t0.0\n",
      "TGBPA: \t0.0\n",
      "GLCURt2r: \t0.0\n",
      "GALKr: \t0.0\n",
      "TARTRt7: \t0.0\n",
      "PLIPA3: \t0.0\n",
      "PLIPA1: \t0.0\n",
      "CYNTAH: \t0.0\n",
      "EX_ile_L_e_: \t0.0\n",
      "IPDDIi: \t0.0\n",
      "EX_gal_e_: \t0.0\n",
      "EX_acac_e_: \t0.0\n",
      "EX_glyb_e_: \t0.0\n",
      "HETZK: \t0.0\n",
      "EX_sucr_e_: \t0.0\n",
      "ADEt2r: \t0.0\n",
      "PTRCabc: \t0.0\n",
      "ALDD2x: \t0.0\n",
      "TRE6PS: \t0.0\n",
      "PTRCTA: \t0.0\n",
      "ICHORSi: \t0.0\n",
      "ILEabc: \t0.0\n",
      "GLCNt2r: \t0.0\n",
      "EX_din_e_: \t0.0\n",
      "DMPPS: \t0.0\n",
      "SERD_L: \t0.0\n",
      "OP4ENH: \t0.0\n",
      "GRTT: \t0.0\n",
      "EX_idon_L_e_: \t0.0\n",
      "EX_cys_L_e_: \t0.0\n",
      "L_LACD2: \t0.0\n",
      "L_LACD3: \t0.0\n",
      "XYLt2: \t0.0\n",
      "VALt2r: \t0.0\n",
      "GUAD: \t0.0\n",
      "EX_tmao_e_: \t0.0\n",
      "EX_galctn_D_e_: \t0.0\n",
      "EX_malttr_e_: \t0.0\n",
      "PROabc: \t0.0\n",
      "EX_ttdca_e_: \t0.0\n",
      "ETOHt2r: \t0.0\n",
      "LYSabc: \t0.0\n",
      "GLCRt2r: \t0.0\n",
      "OBTFL: \t0.0\n",
      "NADDPe: \t0.0\n",
      "THMDt2r: \t0.0\n",
      "GOFUCR: \t0.0\n",
      "ADOCBIK: \t0.0\n",
      "DALAt2r: \t0.0\n",
      "EX_acald_e_: \t0.0\n",
      "ACGApts: \t0.0\n",
      "HXPRT: \t0.0\n",
      "EX_xan_e_: \t0.0\n",
      "TMAOR1e: \t0.0\n",
      "GLCP: \t0.0\n",
      "DDPGALA: \t0.0\n",
      "ACMANApts: \t0.0\n",
      "AMAOTr: \t0.0\n",
      "EX_thr_L_e_: \t0.0\n",
      "NMNP: \t0.0\n",
      "ACACt2: \t0.0\n",
      "CITt7: \t0.0\n",
      "GALURt2r: \t0.0\n",
      "AKGt2r: \t0.0\n",
      "ASNN: \t0.0\n",
      "TMPKr: \t0.0\n",
      "OHPHM: \t0.0\n",
      "EX_pro_L_e_: \t0.0\n",
      "DADNt2: \t0.0\n",
      "EX_xyl_D_e_: \t0.0\n",
      "EX_gly_e_: \t0.0\n",
      "ASPO4: \t0.0\n",
      "ASPO5: \t0.0\n",
      "ASPO6: \t0.0\n",
      "PPCSCT: \t0.0\n",
      "FHL: \t0.0\n",
      "XANt2: \t0.0\n",
      "EX_k_e_: \t0.0\n",
      "DURIK1: \t0.0\n",
      "MALTHXabc: \t0.0\n",
      "MDH3: \t0.0\n",
      "MDH2: \t0.0\n",
      "EX_lac_L_e_: \t0.0\n",
      "NMNN: \t0.0\n",
      "RNTR2: \t0.0\n",
      "NTD10: \t0.0\n",
      "RZ5PP: \t0.0\n",
      "CSNt2: \t0.0\n",
      "NPHS: \t0.0\n",
      "VALabc: \t0.0\n",
      "PPS: \t0.0\n",
      "NTPP4: \t0.0\n",
      "GPDDA4: \t0.0\n",
      "DMSOR2: \t0.0\n",
      "DMSOR1: \t0.0\n",
      "GPDDA1: \t0.0\n",
      "GPDDA2: \t0.0\n",
      "GPDDA3: \t0.0\n",
      "NADTRHD: \t0.0\n",
      "ADHEr: \t0.0\n",
      "SHCHCS2: \t0.0\n",
      "SUCCabc: \t0.0\n",
      "LPLIPA6: \t0.0\n",
      "CHLabc: \t0.0\n",
      "DHPTDCs: \t0.0\n",
      "XANt: \t0.0\n",
      "EX_lcts_e_: \t0.0\n",
      "EX_orn_e_: \t0.0\n",
      "UACMAMO: \t0.0\n",
      "POX: \t0.0\n",
      "DADK: \t0.0\n",
      "EX_amp_e_: \t0.0\n",
      "CRNCBCT: \t0.0\n",
      "MMCD: \t0.0\n",
      "NTPTP1: \t0.0\n",
      "NTPTP2: \t0.0\n",
      "GALCTNt2r: \t0.0\n",
      "OXGDC2: \t0.0\n",
      "EX_2ddglcn_e_: \t0.0\n",
      "EX_glyc3p_e_: \t0.0\n",
      "X5PL3E: \t0.0\n",
      "NTPP1: \t0.0\n",
      "TREHe: \t0.0\n",
      "EX_hxan_e_: \t0.0\n",
      "ARGabc: \t0.0\n",
      "GLCRD: \t0.0\n",
      "EX_gsn_e_: \t0.0\n",
      "PYRt2r: \t0.0\n",
      "ALLTN: \t0.0\n",
      "METabc: \t0.0\n",
      "EX_lac_D_e_: \t0.0\n",
      "SUCCt2_3: \t0.0\n",
      "SUCCt2_2: \t0.0\n",
      "PAPA_EC: \t0.0\n",
      "HKNDDH: \t0.0\n",
      "ACNML: \t0.0\n",
      "CBLAT_DELETE: \t0.0\n",
      "OPHHX: \t0.0\n",
      "RNTR3: \t0.0\n",
      "GALCTD: \t0.0\n",
      "RNTR1: \t0.0\n",
      "TREH: \t0.0\n",
      "MACPD: \t0.0\n",
      "EX_15dap_e_: \t0.0\n",
      "IDONt2r: \t0.0\n",
      "MAN6Pt6_2: \t0.0\n",
      "AHCYSNS: \t0.0\n",
      "EX_adn_e_: \t0.0\n",
      "BSORy: \t0.0\n",
      "LCTSt: \t0.0\n",
      "EX_ser_D_e_: \t0.0\n",
      "EX_glu_L_e_: \t0.0\n",
      "PPM2: \t0.0\n",
      "RNDR4: \t0.0\n",
      "LGTHL: \t0.0\n",
      "BUTt2r: \t0.0\n",
      "GLYATi: \t0.0\n",
      "EX_val_L_e_: \t0.0\n",
      "GLYCK: \t0.0\n",
      "UAG2Ei: \t0.0\n",
      "PROD2: \t0.0\n",
      "FUMt2_2: \t0.0\n",
      "FUMt2_3: \t0.0\n",
      "EX_tre_e_: \t0.0\n",
      "EX_arab_L_e_: \t0.0\n",
      "DMSOR2e: \t0.0\n",
      "CHRPL: \t0.0\n",
      "GSNK: \t0.0\n",
      "NAt3_2: \t0.0\n",
      "EX_ura_e_: \t0.0\n",
      "EX_mal_L_e_: \t0.0\n",
      "EX_nmn_e_: \t0.0\n",
      "ALARi: \t0.0\n",
      "GLYCDx: \t0.0\n",
      "EX_indole_e_: \t0.0\n",
      "CRNt7: \t0.0\n",
      "MALTpts: \t0.0\n",
      "OCDCAt2: \t0.0\n",
      "NTD4: \t0.0\n",
      "AP4AH: \t0.0\n",
      "EX_but_e_: \t0.0\n",
      "G6PDA: \t0.0\n",
      "EX_maltpt_e_: \t0.0\n",
      "EX_acmana_e_: \t0.0\n",
      "GLUCYS: \t0.0\n",
      "ETHAAL: \t0.0\n",
      "MLTG5: \t0.0\n",
      "LEUt2r: \t0.0\n",
      "ACACCT: \t0.0\n",
      "MLTG1: \t0.0\n",
      "XYLK: \t0.0\n",
      "MLTG2: \t0.0\n",
      "DKGLCNR1: \t0.0\n",
      "AMPN: \t0.0\n",
      "NADH5: \t0.0\n",
      "DXYLK: \t0.0\n",
      "NADH8: \t0.0\n",
      "NADH9: \t0.0\n",
      "3HCINNMH: \t0.0\n",
      "GLYCTO2: \t0.0\n",
      "NAt3_15: \t0.0\n",
      "TMAOR2e: \t0.0\n",
      "GAMpts: \t0.0\n",
      "GMAND: \t0.0\n",
      "PTRCt2r: \t0.0\n",
      "RBK: \t0.0\n",
      "2DGLCNRx: \t0.0\n",
      "2DGLCNRy: \t0.0\n",
      "ADOCBLS: \t0.0\n",
      "DDGALK: \t0.0\n",
      "PDXPP: \t0.0\n",
      "NTRIR2x: \t0.0\n",
      "EX_gua_e_: \t0.0\n",
      "SUCpts: \t0.0\n",
      "MALTabc: \t0.0\n",
      "MALt2_3: \t0.0\n",
      "ACS: \t0.0\n",
      "DKMPPD2: \t0.0\n",
      "ME1: \t0.0\n",
      "AACPS5: \t0.0\n",
      "EX_maltttr_e_: \t0.0\n",
      "DCYTD: \t0.0\n",
      "GLUDC: \t0.0\n",
      "CYANST: \t0.0\n",
      "EX_hdca_e_: \t0.0\n",
      "NTD9: \t0.0\n",
      "AP5AH: \t0.0\n",
      "AMANK: \t0.0\n",
      "NO2t2r: \t0.0\n",
      "DMATT: \t0.0\n",
      "ASPt2_2: \t0.0\n",
      "ASPt2_3: \t0.0\n",
      "HYXNt: \t0.0\n",
      "FUCt: \t0.0\n",
      "MMM2: \t0.0\n",
      "AB6PGH: \t0.0\n",
      "MI1PP: \t0.0\n",
      "PNTOt4: \t0.0\n",
      "EX_acgam_e_: \t0.0\n",
      "AMANAPE: \t0.0\n",
      "DGSNt2: \t0.0\n",
      "ACGAMT: \t0.0\n",
      "THRAr: \t0.0\n",
      "EX_asp_L_e_: \t0.0\n",
      "PPPNDO: \t0.0\n",
      "TMPPP: \t0.0\n",
      "GALCTND: \t0.0\n",
      "HISt2r: \t0.0\n",
      "EDTXS4: \t0.0\n",
      "GLUN: \t0.0\n",
      "FBP: \t0.0\n",
      "EDTXS3: \t0.0\n",
      "TDPGDH: \t0.0\n",
      "EX_na1_e_: \t0.0\n",
      "SPMDAT2: \t0.0\n",
      "DHCINDO: \t0.0\n",
      "TTDCAt2: \t0.0\n",
      "CINNDO: \t0.0\n",
      "GLCDe: \t0.0\n",
      "TMKr: \t0.0\n",
      "CADVt: \t0.0\n",
      "EX_malthx_e_: \t0.0\n",
      "CPPPGO: \t0.0\n",
      "D_LACt2: \t0.0\n",
      "NNAM: \t0.0\n",
      "PUNP3: \t0.0\n",
      "EX_12ppd_S_e_: \t0.0\n",
      "MANAO: \t0.0\n",
      "HCINNMt2r: \t0.0\n",
      "SUCBZS: \t0.0\n",
      "HPYRRy: \t0.0\n",
      "HPYRRx: \t0.0\n",
      "GLUSy: \t0.0\n",
      "IDOND: \t0.0\n",
      "UDPGD: \t0.0\n",
      "NADDP: \t0.0\n",
      "EX_cytd_e_: \t0.0\n",
      "SPODM: \t0.0\n",
      "ALAabc: \t0.0\n",
      "ABUTD: \t0.0\n",
      "NTD8: \t0.0\n",
      "EX_gbbtn_e_: \t0.0\n",
      "NTD6: \t0.0\n",
      "EX_galur_e_: \t0.0\n",
      "DGK1: \t0.0\n",
      "NTD2: \t0.0\n",
      "NTD3: \t0.0\n",
      "NTD1: \t0.0\n",
      "TAGURr: \t0.0\n",
      "EX_g6p_e_: \t0.0\n",
      "EX_trp_L_e_: \t0.0\n",
      "DSERt2r: \t0.0\n",
      "EX_dms_e_: \t0.0\n",
      "MALTPTabc: \t0.0\n",
      "SUCFUMt: \t0.0\n",
      "THRt4: \t0.0\n",
      "PFL: \t0.0\n",
      "THZPSN: \t0.0\n",
      "CDPMEK: \t0.0\n"
     ]
    }
   ],
   "source": [
    "TSresult.reactionNetwork.reactionList.printFluxes(brief=\"False\")"
   ]
  },
  {
   "cell_type": "code",
   "execution_count": null,
   "metadata": {
    "collapsed": true
   },
   "outputs": [],
   "source": []
  }
 ],
 "metadata": {
  "kernelspec": {
   "display_name": "jbeipython2",
   "language": "python",
   "name": "jbeipython2"
  },
  "language_info": {
   "codemirror_mode": {
    "name": "ipython",
    "version": 2
   },
   "file_extension": ".py",
   "mimetype": "text/x-python",
   "name": "python",
   "nbconvert_exporter": "python",
   "pygments_lexer": "ipython2",
   "version": "2.7.9"
  }
 },
 "nbformat": 4,
 "nbformat_minor": 1
}
