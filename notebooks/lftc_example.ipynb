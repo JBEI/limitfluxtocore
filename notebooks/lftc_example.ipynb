{
 "cells": [
  {
   "cell_type": "markdown",
   "metadata": {},
   "source": [
    "## Limit Flux To Core example notebook\n",
    "\n",
    "Tyler W. H. Backman\n",
    "\n",
    "Required inputs:\n",
    "* input model\n",
    "* exchange fluxes including biomass, and carbon feed uptake\n",
    "* list of reactions which are considered 'core' reactions\n",
    "\n",
    "Output produced:\n",
    "* an updated version of the input model, where flux bounds are set to minimize fluxes into core, compatible with the exchange fluxes"
   ]
  },
  {
   "cell_type": "code",
   "execution_count": 1,
   "metadata": {
    "collapsed": true
   },
   "outputs": [],
   "source": [
    "import lftc\n",
    "import cobra\n",
    "import re\n",
    "import os\n",
    "import tempfile\n",
    "import math\n",
    "import matplotlib.pyplot as plt\n",
    "import pandas as pd\n",
    "pd.options.display.float_format = '{:1,.5f}'.format # don't use scientific notation in output"
   ]
  },
  {
   "cell_type": "markdown",
   "metadata": {},
   "source": [
    "Import SBML model"
   ]
  },
  {
   "cell_type": "code",
   "execution_count": 2,
   "metadata": {
    "collapsed": true
   },
   "outputs": [],
   "source": [
    "model = cobra.io.read_sbml_model('test_data/EciJR904TKs_sbml3.xml')"
   ]
  },
  {
   "cell_type": "markdown",
   "metadata": {},
   "source": [
    "Set exchange fluxes to experimental values from Toya2010 wt5h "
   ]
  },
  {
   "cell_type": "code",
   "execution_count": 3,
   "metadata": {
    "collapsed": true
   },
   "outputs": [],
   "source": [
    "model.reactions.EX_glc_e_.lower_bound = -11.7\n",
    "model.reactions.EX_glc_e_.upper_bound = -11.7\n",
    "model.reactions.EX_ac_e_.lower_bound = 4.3\n",
    "model.reactions.EX_ac_e_.upper_bound = 4.3\n",
    "model.reactions.BiomassEcoli.lower_bound = 0.83\n",
    "model.reactions.BiomassEcoli.upper_bound = 0.89"
   ]
  },
  {
   "cell_type": "markdown",
   "metadata": {},
   "source": [
    "Read in the jQMM formatted atom transitions to get the reaction core"
   ]
  },
  {
   "cell_type": "code",
   "execution_count": 4,
   "metadata": {},
   "outputs": [
    {
     "name": "stdout",
     "output_type": "stream",
     "text": [
      "127 core reactions in transitions file\n",
      "127 overlapping with model\n",
      "missing from model:  set()\n"
     ]
    }
   ],
   "source": [
    "with open('test_data/REACTIONSwt5h.txt') as f:\n",
    "    allLines = f.readlines()\n",
    "reactionLines = list(filter(lambda l: re.match('^\\w', l), allLines))\n",
    "coreReactionNamesFromFile = set([re.sub('\\s.*$', '', l) for l in reactionLines])\n",
    "coreReactionNamesFromFile = set([re.sub('[\\(,\\)]', '_', l) for l in coreReactionNamesFromFile])\n",
    "coreReactionNames = coreReactionNamesFromFile.intersection([r.id for r in model.reactions])\n",
    "\n",
    "print(str(len(coreReactionNamesFromFile)) + ' core reactions in transitions file')\n",
    "print(str(len(coreReactionNames)) + ' overlapping with model')\n",
    "print('missing from model: ', coreReactionNamesFromFile.difference(coreReactionNames))"
   ]
  },
  {
   "cell_type": "markdown",
   "metadata": {},
   "source": [
    "Run Limit Flux To Core to determine the sum of fluxes into core required to satisfy the exchanges"
   ]
  },
  {
   "cell_type": "code",
   "execution_count": 5,
   "metadata": {},
   "outputs": [
    {
     "data": {
      "text/plain": [
       "3.1875701799999803"
      ]
     },
     "execution_count": 5,
     "metadata": {},
     "output_type": "execute_result"
    }
   ],
   "source": [
    "fluxIntoCore, producingFluxes, consumingFluxes = lftc.limitFluxToCore(coreReactionNames, model)\n",
    "fluxIntoCore"
   ]
  },
  {
   "cell_type": "markdown",
   "metadata": {},
   "source": [
    "Show all fluxes into the core where the upper bound could not be set to zero"
   ]
  },
  {
   "cell_type": "code",
   "execution_count": 6,
   "metadata": {},
   "outputs": [
    {
     "data": {
      "text/plain": [
       "DB4PS     0.00002\n",
       "IG3PS     0.07470\n",
       "HSTPT     0.07470\n",
       "IMPD      0.23108\n",
       "METS      0.12118\n",
       "GTPCI     0.04150\n",
       "ADCL      0.04150\n",
       "ADCS      0.04150\n",
       "GARFT     0.34933\n",
       "ANS       0.04482\n",
       "SDPDS     0.29349\n",
       "AICART    0.47136\n",
       "OMCDC     0.35524\n",
       "CYSS      0.19344\n",
       "UHGADA    0.01394\n",
       "GTPCII2   0.00001\n",
       "CYSTL     0.12118\n",
       "SHSL1     0.12118\n",
       "UNK3      0.00581\n",
       "THDPS     0.29349\n",
       "MOHMT     0.00005\n",
       "DKMPPD    0.00581\n",
       "CTPS2     0.12566\n",
       "GF6PTA    0.05976\n",
       "DHFR      0.06200\n",
       "TRPS1     0.04482\n",
       "Name: fluxes, dtype: float64"
      ]
     },
     "execution_count": 6,
     "metadata": {},
     "output_type": "execute_result"
    }
   ],
   "source": [
    "# optionally write these fluxes to a csv file\n",
    "# producingFluxesNonZero = producingFluxes[producingFluxes > 0]\n",
    "# producingFluxesNonZero.to_csv('test_data/new_fluxes.csv')\n",
    "\n",
    "producingFluxes[producingFluxes > 0]"
   ]
  },
  {
   "cell_type": "markdown",
   "metadata": {},
   "source": [
    "Show all reversible fluxes out of core where the lower bound could not be set to zero"
   ]
  },
  {
   "cell_type": "code",
   "execution_count": 7,
   "metadata": {},
   "outputs": [
    {
     "data": {
      "text/plain": [
       "Series([], Name: fluxes, dtype: float64)"
      ]
     },
     "execution_count": 7,
     "metadata": {},
     "output_type": "execute_result"
    }
   ],
   "source": [
    "consumingFluxes[consumingFluxes < 0]"
   ]
  },
  {
   "cell_type": "markdown",
   "metadata": {},
   "source": [
    "Write model with new bounds to a new file"
   ]
  },
  {
   "cell_type": "code",
   "execution_count": 8,
   "metadata": {},
   "outputs": [],
   "source": [
    "updatedModel = lftc.setModelFluxes(model, producingFluxes, consumingFluxes)\n",
    "cobra.io.write_sbml_model(updatedModel, 'test_data/EciJR904TKs_sbml3_fluxbounds.xml', use_fbc_package=True)\n",
    "\n",
    "# also write old sbml2 format\n",
    "# cobra.io.sbml.write_cobra_model_to_sbml_file(updatedModel, 'test_data/EciJR904TKs_sbml2_fluxbounds.xml', sbml_level=2, sbml_version=1,use_fbc_package=False)"
   ]
  },
  {
   "cell_type": "markdown",
   "metadata": {},
   "source": [
    "Setup simulated annealing problem to identify an improved core, while keeping at least 80% of the initial core"
   ]
  },
  {
   "cell_type": "code",
   "execution_count": 9,
   "metadata": {
    "scrolled": true
   },
   "outputs": [
    {
     "data": {
      "text/plain": [
       "3.1875701799999803"
      ]
     },
     "execution_count": 9,
     "metadata": {},
     "output_type": "execute_result"
    }
   ],
   "source": [
    "exchanges = [r.id for r in model.exchanges]\n",
    "logFile = tempfile.mktemp()\n",
    "ocp = lftc.OptimalCoreProblem(\n",
    "    state=coreReactionNames,\n",
    "    model=model, \n",
    "    feed='EX_glc_e_',\n",
    "    minOverlapWithStart=0.8,\n",
    "    logFile=logFile,\n",
    "    excludeReactions=exchanges,\n",
    "    )\n",
    "ocp.energy()"
   ]
  },
  {
   "cell_type": "markdown",
   "metadata": {},
   "source": [
    "Run simulated annealing problem to find an improved core, and print out it's size and score"
   ]
  },
  {
   "cell_type": "code",
   "execution_count": 10,
   "metadata": {
    "scrolled": true
   },
   "outputs": [
    {
     "name": "stderr",
     "output_type": "stream",
     "text": [
      " Temperature        Energy    Accept   Improve     Elapsed   Remaining\n",
      "     0.01000          0.22    75.00%     5.00%     0:39:04     0:00:00"
     ]
    },
    {
     "name": "stdout",
     "output_type": "stream",
     "text": [
      "766\n",
      "0.21634697\n"
     ]
    }
   ],
   "source": [
    "schedule = {'steps': 20000, 'tmax': 50000, 'tmin': 0.01, 'updates': 1000}\n",
    "ocp.set_schedule(schedule)\n",
    "coreReactions, score = ocp.anneal(seed=42)\n",
    "ocp.logFile.close()\n",
    "print(len(coreReactions))\n",
    "print(score)"
   ]
  },
  {
   "cell_type": "markdown",
   "metadata": {},
   "source": [
    "Plot the simulated annealing trace"
   ]
  },
  {
   "cell_type": "code",
   "execution_count": 11,
   "metadata": {},
   "outputs": [
    {
     "data": {
      "text/plain": [
       "<matplotlib.text.Text at 0x7f3d9e728d68>"
      ]
     },
     "execution_count": 11,
     "metadata": {},
     "output_type": "execute_result"
    },
    {
     "data": {
      "image/png": "[encoded data removed]",
      "text/plain": [
       "<matplotlib.figure.Figure at 0x7f3d9dcbaf60>"
      ]
     },
     "metadata": {},
     "output_type": "display_data"
    }
   ],
   "source": [
    "# read in and delete logfile\n",
    "df = pd.read_csv(logFile)\n",
    "os.unlink(logFile)\n",
    "\n",
    "# set temp schedule to match generated results\n",
    "Tfactor = -math.log(schedule['tmax'] / schedule['tmin'])\n",
    "annealingSchedule = [schedule['tmax'] * math.exp(Tfactor * step / df.shape[0]) for step in range(0,df.shape[0])]\n",
    "\n",
    "# plot the data\n",
    "%matplotlib inline\n",
    "plt.figure(1)\n",
    "plt.subplot(311)\n",
    "plt.plot(annealingSchedule)\n",
    "plt.ylabel('Temperature\\n(mmol/gDW/h)')\n",
    "plt.subplot(311).axes.get_xaxis().set_visible(False)\n",
    "plt.subplot(312)\n",
    "plt.plot(df['energy'])\n",
    "plt.ylabel('Flux Energy\\n(mmol/gDW/h)')\n",
    "plt.ylim([0,max(df['energy'])])\n",
    "plt.subplot(312).axes.get_xaxis().set_visible(False)\n",
    "plt.subplot(313)\n",
    "plt.plot(df['size'])\n",
    "plt.ylim([0,max(df['size'])])\n",
    "plt.ylabel('Core size\\n(reactions)')\n",
    "plt.xlabel('Simulation step')"
   ]
  }
 ],
 "metadata": {
  "kernelspec": {
   "display_name": "Python 3",
   "language": "python",
   "name": "python3"
  },
  "language_info": {
   "codemirror_mode": {
    "name": "ipython",
    "version": 3
   },
   "file_extension": ".py",
   "mimetype": "text/x-python",
   "name": "python",
   "nbconvert_exporter": "python",
   "pygments_lexer": "ipython3",
   "version": "3.4.2"
  }
 },
 "nbformat": 4,
 "nbformat_minor": 2
}
