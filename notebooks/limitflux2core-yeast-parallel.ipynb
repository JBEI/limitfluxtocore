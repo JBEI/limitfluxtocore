{
 "cells": [
  {
   "cell_type": "markdown",
   "metadata": {},
   "source": [
    "## LimitFlux2core yeast example for parallel execution\n",
    "\n",
    "Tyler W. H. Backman\n",
    "\n",
    "Required inputs:\n",
    "* input model\n",
    "* exchange fluxes including biomass, and carbon feed uptake\n",
    "* starting list of reactions which are considered 'core' reactions\n",
    "\n",
    "Output produced:\n",
    "* an updated (improved) set of core reactions"
   ]
  },
  {
   "cell_type": "code",
   "execution_count": 1,
   "metadata": {
    "collapsed": true
   },
   "outputs": [],
   "source": [
    "# run this to get libsbml for importing old models on a fresh launch of the debian-cheminformatics docker container\n",
    "\n",
    "# import os\n",
    "# os.system('pip3 install python-libsbml-experimental')"
   ]
  },
  {
   "cell_type": "code",
   "execution_count": 2,
   "metadata": {
    "collapsed": true
   },
   "outputs": [],
   "source": [
    "import sys\n",
    "sys.path.append('../lftc')\n",
    "import lftc"
   ]
  },
  {
   "cell_type": "code",
   "execution_count": 3,
   "metadata": {},
   "outputs": [
    {
     "name": "stdout",
     "output_type": "stream",
     "text": [
      "0.8.1\n"
     ]
    }
   ],
   "source": [
    "import pandas as pd\n",
    "import numpy as np\n",
    "pd.options.display.float_format = '{:1,.5f}'.format # don't use scientific notation in output\n",
    "import multiprocessing\n",
    "import re\n",
    "import cobra\n",
    "print(cobra.__version__)"
   ]
  },
  {
   "cell_type": "code",
   "execution_count": 4,
   "metadata": {
    "scrolled": true
   },
   "outputs": [
    {
     "data": {
      "text/html": [
       "\n",
       "        <table>\n",
       "            <tr>\n",
       "                <td><strong>Name</strong></td>\n",
       "                <td>_mnt_nfs_jbei_nfs_users_hgmartin_transfer_iMM904</td>\n",
       "            </tr><tr>\n",
       "                <td><strong>Memory address</strong></td>\n",
       "                <td>0x07f09903845f8</td>\n",
       "            </tr><tr>\n",
       "                <td><strong>Number of metabolites</strong></td>\n",
       "                <td>1235</td>\n",
       "            </tr><tr>\n",
       "                <td><strong>Number of reactions</strong></td>\n",
       "                <td>1586</td>\n",
       "            </tr><tr>\n",
       "                <td><strong>Objective expression</strong></td>\n",
       "                <td>-1.0*biomass_SC5_notrace_reverse_e32ff + 1.0*biomass_SC5_notrace</td>\n",
       "            </tr><tr>\n",
       "                <td><strong>Compartments</strong></td>\n",
       "                <td>Cytoplasm, Extracellular, Mitochondrion, Vacuole, Endoplasmic_reticulum, Peroxisome, Golgi, Nucleus</td>\n",
       "            </tr>\n",
       "          </table>"
      ],
      "text/plain": [
       "<Model _mnt_nfs_jbei_nfs_users_hgmartin_transfer_iMM904 at 0x7f09903845f8>"
      ]
     },
     "execution_count": 4,
     "metadata": {},
     "output_type": "execute_result"
    }
   ],
   "source": [
    "# import models\n",
    "# model = cobra.io.read_sbml_model('test_data/yeast/iMM904TKs.xml')\n",
    "# cobra.io.write_sbml_model(model, \"test_data/yeast/iMM904TKs_sbml3.xml\")\n",
    "model = cobra.io.read_sbml_model('test_data/yeast/iMM904TKs_sbml3.xml')\n",
    "model"
   ]
  },
  {
   "cell_type": "code",
   "execution_count": 5,
   "metadata": {
    "collapsed": true
   },
   "outputs": [],
   "source": [
    "# set exchange fluxes to some sample experimental values from \n",
    "# Ghosh 2016\n",
    "# 13C Metabolic Flux Analysis for Systematic Metabolic Engineering of S. cerevisiae for Overproduction of Fatty Acids\n",
    "# FLUXwyr1Etoh.txt\n",
    "\n",
    "model.reactions.biomass_SC5_notrace.lower_bound = 0.02\n",
    "model.reactions.biomass_SC5_notrace.upper_bound = 0.022\n",
    "model.reactions.EX_etoh_LPAREN_e_RPAREN_.lower_bound = -1.18\n",
    "model.reactions.EX_etoh_LPAREN_e_RPAREN_.upper_bound = -1.18\n",
    "model.reactions.EX_glc_LPAREN_e_RPAREN_.lower_bound = 0\n",
    "model.reactions.EX_glc_LPAREN_e_RPAREN_.upper_bound = 0\n",
    "model.reactions.EX_ac_LPAREN_e_RPAREN_.lower_bound = -0.07\n",
    "model.reactions.EX_ac_LPAREN_e_RPAREN_.upper_bound = -0.05\n",
    "model.reactions.EX_ddca_LPAREN_e_RPAREN_.lower_bound = 0.004\n",
    "model.reactions.EX_ddca_LPAREN_e_RPAREN_.upper_bound = 0.03\n",
    "model.reactions.EX_ttdca_LPAREN_e_RPAREN_.lower_bound = 0.006\n",
    "model.reactions.EX_ttdca_LPAREN_e_RPAREN_.upper_bound = 0.03\n",
    "model.reactions.EX_hdca_LPAREN_e_RPAREN_.lower_bound = 0.02\n",
    "model.reactions.EX_hdca_LPAREN_e_RPAREN_.upper_bound = 0.03\n",
    "model.reactions.EX_ocdca_LPAREN_e_RPAREN_.lower_bound = 0.002\n",
    "model.reactions.EX_ocdca_LPAREN_e_RPAREN_.upper_bound = 0.03\n",
    "model.reactions.EX_lac_DASH_D_LPAREN_e_RPAREN_.lower_bound = 0\n",
    "model.reactions.EX_lac_DASH_D_LPAREN_e_RPAREN_.upper_bound = 0"
   ]
  },
  {
   "cell_type": "code",
   "execution_count": 6,
   "metadata": {},
   "outputs": [
    {
     "name": "stdout",
     "output_type": "stream",
     "text": [
      "0.0186665\n"
     ]
    }
   ],
   "source": [
    "# set fatty acid production to a given fraction of max theoretical yield\n",
    "\n",
    "productyield = 1.0\n",
    "\n",
    "objective = {}\n",
    "model.objective = objective\n",
    "reaction = model.reactions.get_by_id('EX_ttdca_LPAREN_e_RPAREN_')\n",
    "reaction.upper_bound = 500\n",
    "objective[reaction.forward_variable] = 1\n",
    "objective[reaction.reverse_variable] = -1\n",
    "model.objective.set_linear_coefficients(objective)\n",
    "model.objective.direction = 'max'\n",
    "maxProduction = model.optimize()['EX_ttdca_LPAREN_e_RPAREN_']\n",
    "reaction.lower_bound = productyield * maxProduction\n",
    "reaction.upper_bound = reaction.lower_bound\n",
    "print(reaction.upper_bound)"
   ]
  },
  {
   "cell_type": "code",
   "execution_count": 7,
   "metadata": {},
   "outputs": [
    {
     "name": "stdout",
     "output_type": "stream",
     "text": [
      "173 core reactions in transitions file\n",
      "173 overlapping with model\n",
      "missing from model:  set()\n"
     ]
    }
   ],
   "source": [
    "with open('test_data/yeast/REACTIONSwry1Glc.txt') as f:\n",
    "    allLines = f.readlines()\n",
    "reactionLines = list(filter(lambda l: re.match('^\\w', l), allLines))\n",
    "coreReactionNamesFromFile = set([re.sub('\\s.*$', '', l) for l in reactionLines])\n",
    "coreReactionNamesFromFile = set([re.sub('\\(', '_LPAREN_', l) for l in coreReactionNamesFromFile])\n",
    "coreReactionNamesFromFile = set([re.sub('\\)', '_RPAREN_', l) for l in coreReactionNamesFromFile])\n",
    "coreReactionNames = coreReactionNamesFromFile.intersection([r.id for r in model.reactions])\n",
    "\n",
    "print(str(len(coreReactionNamesFromFile)) + ' core reactions in transitions file')\n",
    "print(str(len(coreReactionNames)) + ' overlapping with model')\n",
    "print('missing from model: ', coreReactionNamesFromFile.difference(coreReactionNames))"
   ]
  },
  {
   "cell_type": "code",
   "execution_count": 13,
   "metadata": {},
   "outputs": [
    {
     "name": "stderr",
     "output_type": "stream",
     "text": [
      " Temperature        Energy    Accept   Improve     Elapsed   Remaining\n",
      " Temperature        Energy    Accept   Improve     Elapsed   Remaining\n",
      "  9163.96251          3.40   100.00%    10.00%     0:00:12     0:01:34"
     ]
    },
    {
     "ename": "KeyboardInterrupt",
     "evalue": "",
     "output_type": "error",
     "traceback": [
      "\u001b[0;31m---------------------------------------------------------------------------\u001b[0m",
      "\u001b[0;31mKeyboardInterrupt\u001b[0m                         Traceback (most recent call last)",
      "\u001b[0;32m<ipython-input-13-022c8e3bd342>\u001b[0m in \u001b[0;36m<module>\u001b[0;34m()\u001b[0m\n\u001b[1;32m     16\u001b[0m \u001b[0mseeds\u001b[0m \u001b[0;34m=\u001b[0m \u001b[0mlist\u001b[0m\u001b[0;34m(\u001b[0m\u001b[0mrange\u001b[0m\u001b[0;34m(\u001b[0m\u001b[0;36m1\u001b[0m\u001b[0;34m,\u001b[0m\u001b[0mcpuCores\u001b[0m\u001b[0;34m*\u001b[0m\u001b[0;36m5\u001b[0m\u001b[0;34m,\u001b[0m\u001b[0;36m5\u001b[0m\u001b[0;34m)\u001b[0m\u001b[0;34m)\u001b[0m\u001b[0;34m\u001b[0m\u001b[0m\n\u001b[1;32m     17\u001b[0m \u001b[0mpool\u001b[0m \u001b[0;34m=\u001b[0m \u001b[0mmultiprocessing\u001b[0m\u001b[0;34m.\u001b[0m\u001b[0mPool\u001b[0m\u001b[0;34m(\u001b[0m\u001b[0mprocesses\u001b[0m\u001b[0;34m=\u001b[0m\u001b[0mcpuCores\u001b[0m\u001b[0;34m)\u001b[0m\u001b[0;34m\u001b[0m\u001b[0m\n\u001b[0;32m---> 18\u001b[0;31m \u001b[0mresults\u001b[0m \u001b[0;34m=\u001b[0m \u001b[0mpool\u001b[0m\u001b[0;34m.\u001b[0m\u001b[0mmap\u001b[0m\u001b[0;34m(\u001b[0m\u001b[0manneal\u001b[0m\u001b[0;34m,\u001b[0m \u001b[0mseeds\u001b[0m\u001b[0;34m)\u001b[0m\u001b[0;34m\u001b[0m\u001b[0m\n\u001b[0m",
      "\u001b[0;32m/usr/lib/python3.4/multiprocessing/pool.py\u001b[0m in \u001b[0;36mmap\u001b[0;34m(self, func, iterable, chunksize)\u001b[0m\n\u001b[1;32m    258\u001b[0m         \u001b[0;32min\u001b[0m \u001b[0ma\u001b[0m \u001b[0mlist\u001b[0m \u001b[0mthat\u001b[0m \u001b[0;32mis\u001b[0m \u001b[0mreturned\u001b[0m\u001b[0;34m.\u001b[0m\u001b[0;34m\u001b[0m\u001b[0m\n\u001b[1;32m    259\u001b[0m         '''\n\u001b[0;32m--> 260\u001b[0;31m         \u001b[0;32mreturn\u001b[0m \u001b[0mself\u001b[0m\u001b[0;34m.\u001b[0m\u001b[0m_map_async\u001b[0m\u001b[0;34m(\u001b[0m\u001b[0mfunc\u001b[0m\u001b[0;34m,\u001b[0m \u001b[0miterable\u001b[0m\u001b[0;34m,\u001b[0m \u001b[0mmapstar\u001b[0m\u001b[0;34m,\u001b[0m \u001b[0mchunksize\u001b[0m\u001b[0;34m)\u001b[0m\u001b[0;34m.\u001b[0m\u001b[0mget\u001b[0m\u001b[0;34m(\u001b[0m\u001b[0;34m)\u001b[0m\u001b[0;34m\u001b[0m\u001b[0m\n\u001b[0m\u001b[1;32m    261\u001b[0m \u001b[0;34m\u001b[0m\u001b[0m\n\u001b[1;32m    262\u001b[0m     \u001b[0;32mdef\u001b[0m \u001b[0mstarmap\u001b[0m\u001b[0;34m(\u001b[0m\u001b[0mself\u001b[0m\u001b[0;34m,\u001b[0m \u001b[0mfunc\u001b[0m\u001b[0;34m,\u001b[0m \u001b[0miterable\u001b[0m\u001b[0;34m,\u001b[0m \u001b[0mchunksize\u001b[0m\u001b[0;34m=\u001b[0m\u001b[0;32mNone\u001b[0m\u001b[0;34m)\u001b[0m\u001b[0;34m:\u001b[0m\u001b[0;34m\u001b[0m\u001b[0m\n",
      "\u001b[0;32m/usr/lib/python3.4/multiprocessing/pool.py\u001b[0m in \u001b[0;36mget\u001b[0;34m(self, timeout)\u001b[0m\n\u001b[1;32m    591\u001b[0m \u001b[0;34m\u001b[0m\u001b[0m\n\u001b[1;32m    592\u001b[0m     \u001b[0;32mdef\u001b[0m \u001b[0mget\u001b[0m\u001b[0;34m(\u001b[0m\u001b[0mself\u001b[0m\u001b[0;34m,\u001b[0m \u001b[0mtimeout\u001b[0m\u001b[0;34m=\u001b[0m\u001b[0;32mNone\u001b[0m\u001b[0;34m)\u001b[0m\u001b[0;34m:\u001b[0m\u001b[0;34m\u001b[0m\u001b[0m\n\u001b[0;32m--> 593\u001b[0;31m         \u001b[0mself\u001b[0m\u001b[0;34m.\u001b[0m\u001b[0mwait\u001b[0m\u001b[0;34m(\u001b[0m\u001b[0mtimeout\u001b[0m\u001b[0;34m)\u001b[0m\u001b[0;34m\u001b[0m\u001b[0m\n\u001b[0m\u001b[1;32m    594\u001b[0m         \u001b[0;32mif\u001b[0m \u001b[0;32mnot\u001b[0m \u001b[0mself\u001b[0m\u001b[0;34m.\u001b[0m\u001b[0mready\u001b[0m\u001b[0;34m(\u001b[0m\u001b[0;34m)\u001b[0m\u001b[0;34m:\u001b[0m\u001b[0;34m\u001b[0m\u001b[0m\n\u001b[1;32m    595\u001b[0m             \u001b[0;32mraise\u001b[0m \u001b[0mTimeoutError\u001b[0m\u001b[0;34m\u001b[0m\u001b[0m\n",
      "\u001b[0;32m/usr/lib/python3.4/multiprocessing/pool.py\u001b[0m in \u001b[0;36mwait\u001b[0;34m(self, timeout)\u001b[0m\n\u001b[1;32m    588\u001b[0m \u001b[0;34m\u001b[0m\u001b[0m\n\u001b[1;32m    589\u001b[0m     \u001b[0;32mdef\u001b[0m \u001b[0mwait\u001b[0m\u001b[0;34m(\u001b[0m\u001b[0mself\u001b[0m\u001b[0;34m,\u001b[0m \u001b[0mtimeout\u001b[0m\u001b[0;34m=\u001b[0m\u001b[0;32mNone\u001b[0m\u001b[0;34m)\u001b[0m\u001b[0;34m:\u001b[0m\u001b[0;34m\u001b[0m\u001b[0m\n\u001b[0;32m--> 590\u001b[0;31m         \u001b[0mself\u001b[0m\u001b[0;34m.\u001b[0m\u001b[0m_event\u001b[0m\u001b[0;34m.\u001b[0m\u001b[0mwait\u001b[0m\u001b[0;34m(\u001b[0m\u001b[0mtimeout\u001b[0m\u001b[0;34m)\u001b[0m\u001b[0;34m\u001b[0m\u001b[0m\n\u001b[0m\u001b[1;32m    591\u001b[0m \u001b[0;34m\u001b[0m\u001b[0m\n\u001b[1;32m    592\u001b[0m     \u001b[0;32mdef\u001b[0m \u001b[0mget\u001b[0m\u001b[0;34m(\u001b[0m\u001b[0mself\u001b[0m\u001b[0;34m,\u001b[0m \u001b[0mtimeout\u001b[0m\u001b[0;34m=\u001b[0m\u001b[0;32mNone\u001b[0m\u001b[0;34m)\u001b[0m\u001b[0;34m:\u001b[0m\u001b[0;34m\u001b[0m\u001b[0m\n",
      "\u001b[0;32m/usr/lib/python3.4/threading.py\u001b[0m in \u001b[0;36mwait\u001b[0;34m(self, timeout)\u001b[0m\n\u001b[1;32m    551\u001b[0m             \u001b[0msignaled\u001b[0m \u001b[0;34m=\u001b[0m \u001b[0mself\u001b[0m\u001b[0;34m.\u001b[0m\u001b[0m_flag\u001b[0m\u001b[0;34m\u001b[0m\u001b[0m\n\u001b[1;32m    552\u001b[0m             \u001b[0;32mif\u001b[0m \u001b[0;32mnot\u001b[0m \u001b[0msignaled\u001b[0m\u001b[0;34m:\u001b[0m\u001b[0;34m\u001b[0m\u001b[0m\n\u001b[0;32m--> 553\u001b[0;31m                 \u001b[0msignaled\u001b[0m \u001b[0;34m=\u001b[0m \u001b[0mself\u001b[0m\u001b[0;34m.\u001b[0m\u001b[0m_cond\u001b[0m\u001b[0;34m.\u001b[0m\u001b[0mwait\u001b[0m\u001b[0;34m(\u001b[0m\u001b[0mtimeout\u001b[0m\u001b[0;34m)\u001b[0m\u001b[0;34m\u001b[0m\u001b[0m\n\u001b[0m\u001b[1;32m    554\u001b[0m             \u001b[0;32mreturn\u001b[0m \u001b[0msignaled\u001b[0m\u001b[0;34m\u001b[0m\u001b[0m\n\u001b[1;32m    555\u001b[0m         \u001b[0;32mfinally\u001b[0m\u001b[0;34m:\u001b[0m\u001b[0;34m\u001b[0m\u001b[0m\n",
      "\u001b[0;32m/usr/lib/python3.4/threading.py\u001b[0m in \u001b[0;36mwait\u001b[0;34m(self, timeout)\u001b[0m\n\u001b[1;32m    288\u001b[0m         \u001b[0;32mtry\u001b[0m\u001b[0;34m:\u001b[0m    \u001b[0;31m# restore state no matter what (e.g., KeyboardInterrupt)\u001b[0m\u001b[0;34m\u001b[0m\u001b[0m\n\u001b[1;32m    289\u001b[0m             \u001b[0;32mif\u001b[0m \u001b[0mtimeout\u001b[0m \u001b[0;32mis\u001b[0m \u001b[0;32mNone\u001b[0m\u001b[0;34m:\u001b[0m\u001b[0;34m\u001b[0m\u001b[0m\n\u001b[0;32m--> 290\u001b[0;31m                 \u001b[0mwaiter\u001b[0m\u001b[0;34m.\u001b[0m\u001b[0macquire\u001b[0m\u001b[0;34m(\u001b[0m\u001b[0;34m)\u001b[0m\u001b[0;34m\u001b[0m\u001b[0m\n\u001b[0m\u001b[1;32m    291\u001b[0m                 \u001b[0mgotit\u001b[0m \u001b[0;34m=\u001b[0m \u001b[0;32mTrue\u001b[0m\u001b[0;34m\u001b[0m\u001b[0m\n\u001b[1;32m    292\u001b[0m             \u001b[0;32melse\u001b[0m\u001b[0;34m:\u001b[0m\u001b[0;34m\u001b[0m\u001b[0m\n",
      "\u001b[0;31mKeyboardInterrupt\u001b[0m: "
     ]
    }
   ],
   "source": [
    "# run simulated annealing in parallel\n",
    "def anneal(seed):\n",
    "    auto_schedule = {'steps': 1000, 'tmax': 50000, 'tmin': 0.01, 'updates': 100}\n",
    "    ocp = lftc.OptimalCoreProblem(\n",
    "        state=coreReactionNames,\n",
    "        model=model, \n",
    "        feed='EX_etoh_LPAREN_e_RPAREN_',\n",
    "        minOverlapWithStart=1.0,\n",
    "        excludeReactions=exchanges)\n",
    "    ocp.set_schedule(auto_schedule)\n",
    "    coreReactions, score = ocp.anneal(seed=seed)\n",
    "    return [coreReactions, score]\n",
    "\n",
    "exchanges = [r.id for r in model.exchanges]\n",
    "cpuCores = 2\n",
    "seeds = list(range(1,cpuCores*5,5))\n",
    "pool = multiprocessing.Pool(processes=cpuCores)\n",
    "results = pool.map(anneal, seeds)"
   ]
  },
  {
   "cell_type": "code",
   "execution_count": null,
   "metadata": {
    "collapsed": true
   },
   "outputs": [],
   "source": [
    "print('best new core:', min([r[1] for r in results]))"
   ]
  },
  {
   "cell_type": "code",
   "execution_count": null,
   "metadata": {
    "collapsed": true
   },
   "outputs": [],
   "source": [
    "exchanges = [r.id for r in model.exchanges]\n",
    "ocp = lftc.OptimalCoreProblem(\n",
    "    state=coreReactionNames,\n",
    "    model=model, \n",
    "    feed='EX_etoh_LPAREN_e_RPAREN_',\n",
    "    minOverlapWithStart=1.0,\n",
    "    excludeReactions=exchanges)\n",
    "print('old core:', ocp.energy())"
   ]
  },
  {
   "cell_type": "code",
   "execution_count": null,
   "metadata": {
    "collapsed": true
   },
   "outputs": [],
   "source": [
    "# print all non-zero producing reactions that feed into core\n",
    "ocp.producingFluxes[ocp.producingFluxes > 0]"
   ]
  },
  {
   "cell_type": "code",
   "execution_count": null,
   "metadata": {
    "collapsed": true
   },
   "outputs": [],
   "source": [
    "ocp.consumingFluxes[ocp.consumingFluxes > 0]"
   ]
  },
  {
   "cell_type": "code",
   "execution_count": null,
   "metadata": {
    "collapsed": true
   },
   "outputs": [],
   "source": [
    "[r[1] for r in results]"
   ]
  },
  {
   "cell_type": "code",
   "execution_count": null,
   "metadata": {
    "collapsed": true
   },
   "outputs": [],
   "source": [
    "[len(r[0]) for r in results]"
   ]
  },
  {
   "cell_type": "code",
   "execution_count": null,
   "metadata": {
    "collapsed": true
   },
   "outputs": [],
   "source": [
    "bestNewCore = results[np.argmin([r[1] for r in results])][0]\n",
    "len(bestNewCore)"
   ]
  },
  {
   "cell_type": "code",
   "execution_count": null,
   "metadata": {
    "collapsed": true
   },
   "outputs": [],
   "source": [
    "results[np.argmin([r[1] for r in results])][0].difference(coreReactionNames)"
   ]
  },
  {
   "cell_type": "code",
   "execution_count": 12,
   "metadata": {
    "collapsed": true
   },
   "outputs": [],
   "source": []
  },
  {
   "cell_type": "code",
   "execution_count": null,
   "metadata": {
    "collapsed": true
   },
   "outputs": [],
   "source": [
    "# save results to file\n",
    "import pickle\n",
    "with open('results.p', 'wb') as f:\n",
    "    pickle.dump(results, f, pickle.HIGHEST_PROTOCOL)"
   ]
  }
 ],
 "metadata": {
  "kernelspec": {
   "display_name": "Python 3",
   "language": "python",
   "name": "python3"
  },
  "language_info": {
   "codemirror_mode": {
    "name": "ipython",
    "version": 3
   },
   "file_extension": ".py",
   "mimetype": "text/x-python",
   "name": "python",
   "nbconvert_exporter": "python",
   "pygments_lexer": "ipython3",
   "version": "3.4.2"
  }
 },
 "nbformat": 4,
 "nbformat_minor": 2
}
