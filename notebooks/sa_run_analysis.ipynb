{
 "cells": [
  {
   "cell_type": "code",
   "execution_count": 1,
   "metadata": {
    "collapsed": true
   },
   "outputs": [],
   "source": [
    "import pickle\n",
    "import pandas as pd\n",
    "import re"
   ]
  },
  {
   "cell_type": "code",
   "execution_count": 2,
   "metadata": {},
   "outputs": [
    {
     "name": "stdout",
     "output_type": "stream",
     "text": [
      "127 core reactions in transitions file\n"
     ]
    }
   ],
   "source": [
    "with open('test_data/REACTIONSwt5h.txt') as f:\n",
    "    allLines = f.readlines()\n",
    "reactionLines = list(filter(lambda l: re.match('^\\w', l), allLines))\n",
    "coreReactionNamesFromFile = set([re.sub('\\s.*$', '', l) for l in reactionLines])\n",
    "coreReactionNamesFromFile = set([re.sub('[\\(,\\)]', '_', l) for l in coreReactionNamesFromFile])\n",
    "\n",
    "print(str(len(coreReactionNamesFromFile)) + ' core reactions in transitions file')"
   ]
  },
  {
   "cell_type": "code",
   "execution_count": 3,
   "metadata": {},
   "outputs": [
    {
     "data": {
      "text/plain": [
       "64"
      ]
     },
     "execution_count": 3,
     "metadata": {},
     "output_type": "execute_result"
    }
   ],
   "source": [
    "results = pickle.load(open('test_data/results_e_coli.p', 'rb'))\n",
    "len(results)"
   ]
  },
  {
   "cell_type": "code",
   "execution_count": 4,
   "metadata": {
    "collapsed": true
   },
   "outputs": [],
   "source": [
    "cpuCores = len(results)\n",
    "seeds = list(range(1,cpuCores*5,5))"
   ]
  },
  {
   "cell_type": "code",
   "execution_count": 5,
   "metadata": {},
   "outputs": [
    {
     "data": {
      "text/plain": [
       "1.1985598400000002"
      ]
     },
     "execution_count": 5,
     "metadata": {},
     "output_type": "execute_result"
    }
   ],
   "source": [
    "min([r[1] for r in results])"
   ]
  },
  {
   "cell_type": "code",
   "execution_count": 6,
   "metadata": {},
   "outputs": [
    {
     "data": {
      "text/plain": [
       "141"
      ]
     },
     "execution_count": 6,
     "metadata": {},
     "output_type": "execute_result"
    }
   ],
   "source": [
    "import numpy as np\n",
    "bestNewCore = results[np.argmin([r[1] for r in results])][0]\n",
    "len(bestNewCore)"
   ]
  },
  {
   "cell_type": "code",
   "execution_count": 7,
   "metadata": {},
   "outputs": [
    {
     "data": {
      "text/plain": [
       "127"
      ]
     },
     "execution_count": 7,
     "metadata": {},
     "output_type": "execute_result"
    }
   ],
   "source": [
    "len(bestNewCore.intersection(coreReactionNamesFromFile))"
   ]
  },
  {
   "cell_type": "code",
   "execution_count": 8,
   "metadata": {},
   "outputs": [],
   "source": [
    "results.sort(key=lambda r: r[1])"
   ]
  },
  {
   "cell_type": "code",
   "execution_count": 9,
   "metadata": {
    "scrolled": false
   },
   "outputs": [
    {
     "name": "stdout",
     "output_type": "stream",
     "text": [
      "1.19855984\n",
      "\ti: 0\n",
      "\tsize: 141\n",
      "\trandom seed: 1\n",
      "\treactions overlapping with initial core: 127\n",
      "1.37086784\n",
      "\ti: 1\n",
      "\tsize: 141\n",
      "\trandom seed: 6\n",
      "\treactions overlapping with initial core: 127\n",
      "1.37086784\n",
      "\ti: 2\n",
      "\tsize: 141\n",
      "\trandom seed: 11\n",
      "\treactions overlapping with initial core: 127\n",
      "1.37086784\n",
      "\ti: 3\n",
      "\tsize: 140\n",
      "\trandom seed: 16\n",
      "\treactions overlapping with initial core: 127\n",
      "1.38248784\n",
      "\ti: 4\n",
      "\tsize: 141\n",
      "\trandom seed: 21\n",
      "\treactions overlapping with initial core: 127\n",
      "1.40655784\n",
      "\ti: 5\n",
      "\tsize: 141\n",
      "\trandom seed: 26\n",
      "\treactions overlapping with initial core: 127\n",
      "1.40987784\n",
      "\ti: 6\n",
      "\tsize: 141\n",
      "\trandom seed: 31\n",
      "\treactions overlapping with initial core: 127\n",
      "1.41231887\n",
      "\ti: 7\n",
      "\tsize: 141\n",
      "\trandom seed: 36\n",
      "\treactions overlapping with initial core: 127\n",
      "1.41236784\n",
      "\ti: 8\n",
      "\tsize: 141\n",
      "\trandom seed: 41\n",
      "\treactions overlapping with initial core: 127\n",
      "1.41236784\n",
      "\ti: 9\n",
      "\tsize: 141\n",
      "\trandom seed: 46\n",
      "\treactions overlapping with initial core: 127\n",
      "1.41236784\n",
      "\ti: 10\n",
      "\tsize: 141\n",
      "\trandom seed: 51\n",
      "\treactions overlapping with initial core: 127\n",
      "1.41236784\n",
      "\ti: 11\n",
      "\tsize: 141\n",
      "\trandom seed: 56\n",
      "\treactions overlapping with initial core: 127\n",
      "1.41236784\n",
      "\ti: 12\n",
      "\tsize: 141\n",
      "\trandom seed: 61\n",
      "\treactions overlapping with initial core: 127\n",
      "1.41236784\n",
      "\ti: 13\n",
      "\tsize: 141\n",
      "\trandom seed: 66\n",
      "\treactions overlapping with initial core: 127\n",
      "1.41729887\n",
      "\ti: 14\n",
      "\tsize: 141\n",
      "\trandom seed: 71\n",
      "\treactions overlapping with initial core: 127\n",
      "1.41734784\n",
      "\ti: 15\n",
      "\tsize: 141\n",
      "\trandom seed: 76\n",
      "\treactions overlapping with initial core: 127\n",
      "1.41734784\n",
      "\ti: 16\n",
      "\tsize: 141\n",
      "\trandom seed: 81\n",
      "\treactions overlapping with initial core: 127\n",
      "1.43062784\n",
      "\ti: 17\n",
      "\tsize: 141\n",
      "\trandom seed: 86\n",
      "\treactions overlapping with initial core: 127\n",
      "1.44805784\n",
      "\ti: 18\n",
      "\tsize: 140\n",
      "\trandom seed: 91\n",
      "\treactions overlapping with initial core: 127\n",
      "1.45137784\n",
      "\ti: 19\n",
      "\tsize: 141\n",
      "\trandom seed: 96\n",
      "\treactions overlapping with initial core: 127\n",
      "1.45381887\n",
      "\ti: 20\n",
      "\tsize: 141\n",
      "\trandom seed: 101\n",
      "\treactions overlapping with initial core: 127\n",
      "1.45386784\n",
      "\ti: 21\n",
      "\tsize: 141\n",
      "\trandom seed: 106\n",
      "\treactions overlapping with initial core: 127\n",
      "1.45884784\n",
      "\ti: 22\n",
      "\tsize: 141\n",
      "\trandom seed: 111\n",
      "\treactions overlapping with initial core: 127\n",
      "1.45884784\n",
      "\ti: 23\n",
      "\tsize: 141\n",
      "\trandom seed: 116\n",
      "\treactions overlapping with initial core: 127\n",
      "1.47710784\n",
      "\ti: 24\n",
      "\tsize: 140\n",
      "\trandom seed: 121\n",
      "\treactions overlapping with initial core: 127\n",
      "1.47710784\n",
      "\ti: 25\n",
      "\tsize: 141\n",
      "\trandom seed: 126\n",
      "\treactions overlapping with initial core: 127\n",
      "1.48622954\n",
      "\ti: 26\n",
      "\tsize: 141\n",
      "\trandom seed: 131\n",
      "\treactions overlapping with initial core: 127\n",
      "1.48623784\n",
      "\ti: 27\n",
      "\tsize: 140\n",
      "\trandom seed: 136\n",
      "\treactions overlapping with initial core: 127\n",
      "1.48623784\n",
      "\ti: 28\n",
      "\tsize: 141\n",
      "\trandom seed: 141\n",
      "\treactions overlapping with initial core: 127\n",
      "1.48955784\n",
      "\ti: 29\n",
      "\tsize: 141\n",
      "\trandom seed: 146\n",
      "\treactions overlapping with initial core: 127\n",
      "1.49199887\n",
      "\ti: 30\n",
      "\tsize: 141\n",
      "\trandom seed: 151\n",
      "\treactions overlapping with initial core: 127\n",
      "1.49199887\n",
      "\ti: 31\n",
      "\tsize: 140\n",
      "\trandom seed: 156\n",
      "\treactions overlapping with initial core: 127\n",
      "1.49203124\n",
      "\ti: 32\n",
      "\tsize: 141\n",
      "\trandom seed: 161\n",
      "\treactions overlapping with initial core: 127\n",
      "1.49203124\n",
      "\ti: 33\n",
      "\tsize: 140\n",
      "\trandom seed: 166\n",
      "\treactions overlapping with initial core: 127\n",
      "1.49203954\n",
      "\ti: 34\n",
      "\tsize: 140\n",
      "\trandom seed: 171\n",
      "\treactions overlapping with initial core: 127\n",
      "1.49203954\n",
      "\ti: 35\n",
      "\tsize: 141\n",
      "\trandom seed: 176\n",
      "\treactions overlapping with initial core: 127\n",
      "1.49204784\n",
      "\ti: 36\n",
      "\tsize: 140\n",
      "\trandom seed: 181\n",
      "\treactions overlapping with initial core: 127\n",
      "1.49204784\n",
      "\ti: 37\n",
      "\tsize: 141\n",
      "\trandom seed: 186\n",
      "\treactions overlapping with initial core: 127\n",
      "1.49204784\n",
      "\ti: 38\n",
      "\tsize: 141\n",
      "\trandom seed: 191\n",
      "\treactions overlapping with initial core: 127\n",
      "1.49204784\n",
      "\ti: 39\n",
      "\tsize: 141\n",
      "\trandom seed: 196\n",
      "\treactions overlapping with initial core: 127\n",
      "1.49204784\n",
      "\ti: 40\n",
      "\tsize: 141\n",
      "\trandom seed: 201\n",
      "\treactions overlapping with initial core: 127\n",
      "1.49204784\n",
      "\ti: 41\n",
      "\tsize: 141\n",
      "\trandom seed: 206\n",
      "\treactions overlapping with initial core: 127\n",
      "1.49204784\n",
      "\ti: 42\n",
      "\tsize: 141\n",
      "\trandom seed: 211\n",
      "\treactions overlapping with initial core: 127\n",
      "1.49204784\n",
      "\ti: 43\n",
      "\tsize: 141\n",
      "\trandom seed: 216\n",
      "\treactions overlapping with initial core: 127\n",
      "1.49204784\n",
      "\ti: 44\n",
      "\tsize: 141\n",
      "\trandom seed: 221\n",
      "\treactions overlapping with initial core: 127\n",
      "1.49204784\n",
      "\ti: 45\n",
      "\tsize: 141\n",
      "\trandom seed: 226\n",
      "\treactions overlapping with initial core: 127\n",
      "1.49204784\n",
      "\ti: 46\n",
      "\tsize: 141\n",
      "\trandom seed: 231\n",
      "\treactions overlapping with initial core: 127\n",
      "1.49204784\n",
      "\ti: 47\n",
      "\tsize: 141\n",
      "\trandom seed: 236\n",
      "\treactions overlapping with initial core: 127\n",
      "1.49536784\n",
      "\ti: 48\n",
      "\tsize: 141\n",
      "\trandom seed: 241\n",
      "\treactions overlapping with initial core: 127\n",
      "1.49868784\n",
      "\ti: 49\n",
      "\tsize: 141\n",
      "\trandom seed: 246\n",
      "\treactions overlapping with initial core: 127\n",
      "1.52191954\n",
      "\ti: 50\n",
      "\tsize: 141\n",
      "\trandom seed: 251\n",
      "\treactions overlapping with initial core: 127\n",
      "1.52772124\n",
      "\ti: 51\n",
      "\tsize: 140\n",
      "\trandom seed: 256\n",
      "\treactions overlapping with initial core: 127\n",
      "1.52773784\n",
      "\ti: 52\n",
      "\tsize: 140\n",
      "\trandom seed: 261\n",
      "\treactions overlapping with initial core: 127\n",
      "1.52773784\n",
      "\ti: 53\n",
      "\tsize: 140\n",
      "\trandom seed: 266\n",
      "\treactions overlapping with initial core: 127\n",
      "1.52773784\n",
      "\ti: 54\n",
      "\tsize: 141\n",
      "\trandom seed: 271\n",
      "\treactions overlapping with initial core: 127\n",
      "1.53349887\n",
      "\ti: 55\n",
      "\tsize: 141\n",
      "\trandom seed: 276\n",
      "\treactions overlapping with initial core: 127\n",
      "1.53349887\n",
      "\ti: 56\n",
      "\tsize: 141\n",
      "\trandom seed: 281\n",
      "\treactions overlapping with initial core: 127\n",
      "1.53349887\n",
      "\ti: 57\n",
      "\tsize: 141\n",
      "\trandom seed: 286\n",
      "\treactions overlapping with initial core: 127\n",
      "1.53349887\n",
      "\ti: 58\n",
      "\tsize: 141\n",
      "\trandom seed: 291\n",
      "\treactions overlapping with initial core: 127\n",
      "1.53354784\n",
      "\ti: 59\n",
      "\tsize: 141\n",
      "\trandom seed: 296\n",
      "\treactions overlapping with initial core: 127\n",
      "1.72112784\n",
      "\ti: 60\n",
      "\tsize: 141\n",
      "\trandom seed: 301\n",
      "\treactions overlapping with initial core: 127\n",
      "1.76753231\n",
      "\ti: 61\n",
      "\tsize: 141\n",
      "\trandom seed: 306\n",
      "\treactions overlapping with initial core: 127\n",
      "1.95758571\n",
      "\ti: 62\n",
      "\tsize: 139\n",
      "\trandom seed: 311\n",
      "\treactions overlapping with initial core: 127\n",
      "1.96336334\n",
      "\ti: 63\n",
      "\tsize: 141\n",
      "\trandom seed: 316\n",
      "\treactions overlapping with initial core: 127\n"
     ]
    }
   ],
   "source": [
    "i = -1\n",
    "for result in results:\n",
    "    i += 1\n",
    "    if result[1] < 3.65:\n",
    "    # if result[1]:\n",
    "        newCore = set(result[0])\n",
    "        print(result[1])\n",
    "        print('\\ti:', str(i))\n",
    "        print('\\tsize:', len(result[0]))\n",
    "        print('\\trandom seed:', str(seeds[i]))\n",
    "        # print('\\tsum of flux into core:', str(ocp.energy()))\n",
    "        # print('\\tcore size in reactions:', len(ocp.state))\n",
    "        print('\\treactions overlapping with initial core:', len(newCore.intersection(coreReactionNamesFromFile)))\n",
    "        # print('\\tboundary reaction count:', len(ocp.producingFluxes) + len(ocp.consumingFluxes))"
   ]
  },
  {
   "cell_type": "code",
   "execution_count": 10,
   "metadata": {
    "collapsed": true
   },
   "outputs": [],
   "source": [
    "import pandas as pd\n",
    "import numpy as np\n",
    "simulated = pd.DataFrame(list(results[np.argmin([r[1] for r in results])][0]))\n",
    "simulated['flux'] = 10\n",
    "simulated.to_csv('test_data/best_core.csv', header=False, index=False)"
   ]
  },
  {
   "cell_type": "code",
   "execution_count": null,
   "metadata": {
    "collapsed": true
   },
   "outputs": [],
   "source": []
  }
 ],
 "metadata": {
  "kernelspec": {
   "display_name": "Python 3",
   "language": "python",
   "name": "python3"
  },
  "language_info": {
   "codemirror_mode": {
    "name": "ipython",
    "version": 3
   },
   "file_extension": ".py",
   "mimetype": "text/x-python",
   "name": "python",
   "nbconvert_exporter": "python",
   "pygments_lexer": "ipython3",
   "version": "3.4.2"
  }
 },
 "nbformat": 4,
 "nbformat_minor": 2
}
