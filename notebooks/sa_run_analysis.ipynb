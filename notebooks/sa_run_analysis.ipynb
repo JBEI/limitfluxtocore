{
 "cells": [
  {
   "cell_type": "code",
   "execution_count": 1,
   "metadata": {
    "collapsed": true
   },
   "outputs": [],
   "source": [
    "import pickle\n",
    "import pandas as pd\n",
    "import re"
   ]
  },
  {
   "cell_type": "code",
   "execution_count": 2,
   "metadata": {},
   "outputs": [
    {
     "name": "stdout",
     "output_type": "stream",
     "text": [
      "127 core reactions in transitions file\n"
     ]
    }
   ],
   "source": [
    "with open('../test_data/REACTIONSwt5h.txt') as f:\n",
    "    allLines = f.readlines()\n",
    "reactionLines = list(filter(lambda l: re.match('^\\w', l), allLines))\n",
    "coreReactionNamesFromFile = set([re.sub('\\s.*$', '', l) for l in reactionLines])\n",
    "coreReactionNamesFromFile = set([re.sub('[\\(,\\)]', '_', l) for l in coreReactionNamesFromFile])\n",
    "# coreReactionNames = coreReactionNamesFromFile.intersection([r.id for r in model.reactions])\n",
    "\n",
    "print(str(len(coreReactionNamesFromFile)) + ' core reactions in transitions file')\n",
    "# print(str(len(coreReactionNames)) + ' overlapping with model')\n",
    "# print('missing from model: ', coreReactionNamesFromFile.difference(coreReactionNames))"
   ]
  },
  {
   "cell_type": "code",
   "execution_count": 3,
   "metadata": {},
   "outputs": [
    {
     "data": {
      "text/plain": [
       "64"
      ]
     },
     "execution_count": 3,
     "metadata": {},
     "output_type": "execute_result"
    }
   ],
   "source": [
    "results = pickle.load(open('../results_tca_only_longrun.p', 'rb'))\n",
    "# results = pickle.load(open('results_1.00.p', 'rb'))\n",
    "len(results)"
   ]
  },
  {
   "cell_type": "code",
   "execution_count": 4,
   "metadata": {
    "collapsed": true
   },
   "outputs": [],
   "source": [
    "cpuCores = 64\n",
    "seeds = list(range(1,cpuCores*5,5))"
   ]
  },
  {
   "cell_type": "code",
   "execution_count": 5,
   "metadata": {},
   "outputs": [
    {
     "data": {
      "text/plain": [
       "3.1205734099998783"
      ]
     },
     "execution_count": 5,
     "metadata": {},
     "output_type": "execute_result"
    }
   ],
   "source": [
    "min([r[1] for r in results])"
   ]
  },
  {
   "cell_type": "code",
   "execution_count": 6,
   "metadata": {},
   "outputs": [
    {
     "data": {
      "text/plain": [
       "127"
      ]
     },
     "execution_count": 6,
     "metadata": {},
     "output_type": "execute_result"
    }
   ],
   "source": [
    "import numpy as np\n",
    "bestNewCore = results[np.argmin([r[1] for r in results])][0]\n",
    "len(bestNewCore)"
   ]
  },
  {
   "cell_type": "code",
   "execution_count": 7,
   "metadata": {},
   "outputs": [
    {
     "data": {
      "text/plain": [
       "51"
      ]
     },
     "execution_count": 7,
     "metadata": {},
     "output_type": "execute_result"
    }
   ],
   "source": [
    "len(bestNewCore.intersection(coreReactionNamesFromFile))"
   ]
  },
  {
   "cell_type": "code",
   "execution_count": 8,
   "metadata": {
    "scrolled": false
   },
   "outputs": [
    {
     "name": "stdout",
     "output_type": "stream",
     "text": [
      "3.63883371\n",
      "\ti: 1\n",
      "\tsize: 112\n",
      "\trandom seed: 6\n",
      "\treactions overlapping with initial core: 45\n",
      "3.64464371\n",
      "\ti: 2\n",
      "\tsize: 123\n",
      "\trandom seed: 11\n",
      "\treactions overlapping with initial core: 48\n",
      "3.64464371\n",
      "\ti: 3\n",
      "\tsize: 114\n",
      "\trandom seed: 16\n",
      "\treactions overlapping with initial core: 43\n",
      "3.63883371\n",
      "\ti: 6\n",
      "\tsize: 97\n",
      "\trandom seed: 31\n",
      "\treactions overlapping with initial core: 37\n",
      "3.64464371\n",
      "\ti: 7\n",
      "\tsize: 95\n",
      "\trandom seed: 36\n",
      "\treactions overlapping with initial core: 41\n",
      "3.62770341\n",
      "\ti: 8\n",
      "\tsize: 91\n",
      "\trandom seed: 41\n",
      "\treactions overlapping with initial core: 38\n",
      "3.63883371\n",
      "\ti: 9\n",
      "\tsize: 88\n",
      "\trandom seed: 46\n",
      "\treactions overlapping with initial core: 44\n",
      "3.64464371\n",
      "\ti: 12\n",
      "\tsize: 115\n",
      "\trandom seed: 61\n",
      "\treactions overlapping with initial core: 43\n",
      "3.61924571\n",
      "\ti: 13\n",
      "\tsize: 100\n",
      "\trandom seed: 66\n",
      "\treactions overlapping with initial core: 41\n",
      "3.64464371\n",
      "\ti: 16\n",
      "\tsize: 112\n",
      "\trandom seed: 81\n",
      "\treactions overlapping with initial core: 40\n",
      "3.35115571\n",
      "\ti: 17\n",
      "\tsize: 123\n",
      "\trandom seed: 86\n",
      "\treactions overlapping with initial core: 50\n",
      "3.35380341\n",
      "\ti: 23\n",
      "\tsize: 107\n",
      "\trandom seed: 116\n",
      "\treactions overlapping with initial core: 43\n",
      "3.24797924\n",
      "\ti: 26\n",
      "\tsize: 124\n",
      "\trandom seed: 131\n",
      "\treactions overlapping with initial core: 48\n",
      "3.63883371\n",
      "\ti: 28\n",
      "\tsize: 70\n",
      "\trandom seed: 141\n",
      "\treactions overlapping with initial core: 37\n",
      "3.63883371\n",
      "\ti: 30\n",
      "\tsize: 86\n",
      "\trandom seed: 151\n",
      "\treactions overlapping with initial core: 43\n",
      "3.63883371\n",
      "\ti: 31\n",
      "\tsize: 104\n",
      "\trandom seed: 156\n",
      "\treactions overlapping with initial core: 44\n",
      "3.64999721\n",
      "\ti: 32\n",
      "\tsize: 133\n",
      "\trandom seed: 161\n",
      "\treactions overlapping with initial core: 48\n",
      "3.64418721\n",
      "\ti: 33\n",
      "\tsize: 104\n",
      "\trandom seed: 166\n",
      "\treactions overlapping with initial core: 44\n",
      "3.62189341\n",
      "\ti: 34\n",
      "\tsize: 109\n",
      "\trandom seed: 171\n",
      "\treactions overlapping with initial core: 42\n",
      "3.34534571\n",
      "\ti: 35\n",
      "\tsize: 135\n",
      "\trandom seed: 176\n",
      "\treactions overlapping with initial core: 50\n",
      "3.12057341\n",
      "\ti: 39\n",
      "\tsize: 127\n",
      "\trandom seed: 196\n",
      "\treactions overlapping with initial core: 51\n",
      "3.61343571\n",
      "\ti: 40\n",
      "\tsize: 100\n",
      "\trandom seed: 201\n",
      "\treactions overlapping with initial core: 43\n",
      "3.61974371\n",
      "\ti: 41\n",
      "\tsize: 127\n",
      "\trandom seed: 206\n",
      "\treactions overlapping with initial core: 52\n",
      "3.63883371\n",
      "\ti: 42\n",
      "\tsize: 101\n",
      "\trandom seed: 211\n",
      "\treactions overlapping with initial core: 45\n",
      "3.63883371\n",
      "\ti: 50\n",
      "\tsize: 107\n",
      "\trandom seed: 251\n",
      "\treactions overlapping with initial core: 41\n",
      "3.63883371\n",
      "\ti: 51\n",
      "\tsize: 93\n",
      "\trandom seed: 256\n",
      "\treactions overlapping with initial core: 42\n",
      "3.35380341\n",
      "\ti: 52\n",
      "\tsize: 127\n",
      "\trandom seed: 261\n",
      "\treactions overlapping with initial core: 42\n",
      "3.64464371\n",
      "\ti: 53\n",
      "\tsize: 68\n",
      "\trandom seed: 266\n",
      "\treactions overlapping with initial core: 37\n",
      "3.63883371\n",
      "\ti: 54\n",
      "\tsize: 94\n",
      "\trandom seed: 271\n",
      "\treactions overlapping with initial core: 40\n",
      "3.64464371\n",
      "\ti: 55\n",
      "\tsize: 94\n",
      "\trandom seed: 276\n",
      "\treactions overlapping with initial core: 43\n",
      "3.35380341\n",
      "\ti: 56\n",
      "\tsize: 109\n",
      "\trandom seed: 281\n",
      "\treactions overlapping with initial core: 47\n",
      "3.24797924\n",
      "\ti: 60\n",
      "\tsize: 108\n",
      "\trandom seed: 301\n",
      "\treactions overlapping with initial core: 53\n"
     ]
    }
   ],
   "source": [
    "i = -1\n",
    "for result in results:\n",
    "    i += 1\n",
    "    if result[1] < 3.65:\n",
    "    # if result[1]:\n",
    "        newCore = set(result[0])\n",
    "        print(result[1])\n",
    "        print('\\ti:', str(i))\n",
    "        print('\\tsize:', len(result[0]))\n",
    "        print('\\trandom seed:', str(seeds[i]))\n",
    "        # print('\\tsum of flux into core:', str(ocp.energy()))\n",
    "        # print('\\tcore size in reactions:', len(ocp.state))\n",
    "        print('\\treactions overlapping with initial core:', len(newCore.intersection(coreReactionNamesFromFile)))\n",
    "        # print('\\tboundary reaction count:', len(ocp.producingFluxes) + len(ocp.consumingFluxes))"
   ]
  },
  {
   "cell_type": "code",
   "execution_count": 9,
   "metadata": {
    "collapsed": true
   },
   "outputs": [],
   "source": [
    "import pandas as pd\n",
    "import numpy as np\n",
    "simulated = pd.DataFrame(list(results[np.argmin([r[1] for r in results])][0]))\n",
    "simulated['flux'] = 10\n",
    "simulated.to_csv('best_core.csv', header=False, index=False)"
   ]
  },
  {
   "cell_type": "code",
   "execution_count": null,
   "metadata": {
    "collapsed": true
   },
   "outputs": [],
   "source": []
  }
 ],
 "metadata": {
  "kernelspec": {
   "display_name": "Python 3",
   "language": "python",
   "name": "python3"
  },
  "language_info": {
   "codemirror_mode": {
    "name": "ipython",
    "version": 3
   },
   "file_extension": ".py",
   "mimetype": "text/x-python",
   "name": "python",
   "nbconvert_exporter": "python",
   "pygments_lexer": "ipython3",
   "version": "3.4.2"
  }
 },
 "nbformat": 4,
 "nbformat_minor": 2
}
